{
 "cells": [
  {
   "cell_type": "code",
   "execution_count": 1,
   "metadata": {
    "collapsed": false
   },
   "outputs": [
    {
     "name": "stderr",
     "output_type": "stream",
     "text": [
      "Using Theano backend.\n"
     ]
    }
   ],
   "source": [
    "import pandas as pd\n",
    "import numpy as np\n",
    "import matplotlib.pyplot as plt\n",
    "import matplotlib.image as mpimg\n",
    "\n",
    "\n",
    "from sklearn.model_selection import train_test_split\n",
    "from sklearn.metrics import confusion_matrix\n",
    "import itertools\n",
    "\n",
    "from keras.utils.np_utils import to_categorical # convert to one-hot-encoding\n",
    "from keras.models import Sequential\n",
    "from keras.layers import Dense, Dropout, Flatten, Conv2D, MaxPool2D\n",
    "from keras.optimizers import RMSprop, Adam\n",
    "from keras.preprocessing.image import ImageDataGenerator\n",
    "from keras.callbacks import ReduceLROnPlateau"
   ]
  },
  {
   "cell_type": "code",
   "execution_count": 2,
   "metadata": {
    "collapsed": true
   },
   "outputs": [],
   "source": [
    "train = pd.read_csv(\"../input/train.csv\")\n",
    "test = pd.read_csv(\"../input/test.csv\")"
   ]
  },
  {
   "cell_type": "code",
   "execution_count": 3,
   "metadata": {
    "collapsed": true
   },
   "outputs": [],
   "source": [
    "Y_train = train[\"label\"]\n",
    "\n",
    "# Drop 'label' column\n",
    "X_train = train.drop(labels = [\"label\"],axis = 1) \n",
    "\n",
    "# free some space\n",
    "del train "
   ]
  },
  {
   "cell_type": "code",
   "execution_count": 4,
   "metadata": {
    "collapsed": false
   },
   "outputs": [],
   "source": [
    "# Normalize the data\n",
    "X_train = X_train / 255.0\n",
    "test = test / 255.0\n",
    "# Reshape image in 3 dimensions (height = 28px, width = 28px , canal = 1)\n",
    "X_train = X_train.values.reshape(-1,1,28,28)\n",
    "test = test.values.reshape(-1,1,28,28)"
   ]
  },
  {
   "cell_type": "code",
   "execution_count": 5,
   "metadata": {
    "collapsed": false
   },
   "outputs": [
    {
     "name": "stdout",
     "output_type": "stream",
     "text": [
      "(37800, 1, 28, 28) (37800, 10)\n"
     ]
    }
   ],
   "source": [
    "Y_train = to_categorical(Y_train, num_classes = 10)\n",
    "\n",
    "# Split the train and the validation set for the fitting\n",
    "X_train, X_val, Y_train, Y_val = train_test_split(X_train, Y_train, test_size = 0.1, random_state=2)\n",
    "print(X_train.shape, Y_train.shape)"
   ]
  },
  {
   "cell_type": "code",
   "execution_count": 6,
   "metadata": {
    "collapsed": false
   },
   "outputs": [
    {
     "name": "stdout",
     "output_type": "stream",
     "text": [
      "compile done\n"
     ]
    }
   ],
   "source": [
    "model = Sequential()\n",
    "\n",
    "# conv1\n",
    "model.add(Conv2D(filters = 64, kernel_size = (3,3),padding = 'same', \n",
    "                 activation ='relu', input_shape = (1,28,28)))\n",
    "model.add(Conv2D(filters = 64, kernel_size = (3,3),padding = 'same', \n",
    "                 activation ='relu'))\n",
    "model.add(MaxPool2D(pool_size=(2,2)))\n",
    "model.add(Dropout(0.3))\n",
    "\n",
    "# conv2\n",
    "model.add(Conv2D(filters = 64, kernel_size = (3,3),padding = 'same', \n",
    "                 activation ='relu', input_shape = (1,28,28)))\n",
    "model.add(Conv2D(filters = 64, kernel_size = (3,3),padding = 'same', \n",
    "                 activation ='relu'))\n",
    "model.add(MaxPool2D(pool_size=(2,2)))\n",
    "model.add(Dropout(0.3))\n",
    "\n",
    "# conv3\n",
    "model.add(Conv2D(filters = 64, kernel_size = (3,3),padding = 'same', \n",
    "                 activation ='relu'))\n",
    "model.add(Conv2D(filters = 64, kernel_size = (3,3),padding = 'same', \n",
    "                 activation ='relu'))\n",
    "model.add(MaxPool2D(pool_size=(2,2), strides=(2,2)))\n",
    "model.add(Dropout(0.3))\n",
    "\n",
    "# flatten\n",
    "model.add(Flatten())\n",
    "model.add(Dense(512, activation = \"relu\"))\n",
    "model.add(Dropout(0.3))\n",
    "model.add(Dense(256, activation = \"relu\"))\n",
    "model.add(Dropout(0.3))\n",
    "model.add(Dense(10, activation = \"softmax\"))\n",
    "# Compile the model\n",
    "\n",
    "opt = Adam(lr=0.001)\n",
    "model.compile(optimizer = opt , loss = \"categorical_crossentropy\", metrics=[\"accuracy\"])\n",
    "print(\"compile done\")"
   ]
  },
  {
   "cell_type": "code",
   "execution_count": 7,
   "metadata": {
    "collapsed": false
   },
   "outputs": [
    {
     "name": "stderr",
     "output_type": "stream",
     "text": [
      "/home/jac/.local/lib/python3.5/site-packages/keras/preprocessing/image.py:653: UserWarning: Expected input to be images (as Numpy array) following the data format convention \"channels_first\" (channels on axis 1), i.e. expected either 1, 3 or 4 channels on axis 1. However, it was passed an array with shape (37800, 1, 28, 28) (1 channels).\n",
      "  ' (' + str(x.shape[self.channel_axis]) + ' channels).')\n"
     ]
    }
   ],
   "source": [
    "datagen = ImageDataGenerator(\n",
    "        featurewise_center=False,  # set input mean to 0 over the dataset\n",
    "        samplewise_center=False,  # set each sample mean to 0\n",
    "        featurewise_std_normalization=False,  # divide inputs by std of the dataset\n",
    "        samplewise_std_normalization=False,  # divide each input by its std\n",
    "        zca_whitening=False,  # apply ZCA whitening\n",
    "        rotation_range=10,  # randomly rotate images in the range (degrees, 0 to 180)\n",
    "        zoom_range = 0.1, # Randomly zoom image \n",
    "        width_shift_range=0.1,  # randomly shift images horizontally (fraction of total width)\n",
    "        height_shift_range=0.1,  # randomly shift images vertically (fraction of total height)\n",
    "        horizontal_flip=False,  # randomly flip images\n",
    "        vertical_flip=False)  # randomly flip images\n",
    "\n",
    "\n",
    "datagen.fit(X_train)"
   ]
  },
  {
   "cell_type": "code",
   "execution_count": 9,
   "metadata": {
    "collapsed": false
   },
   "outputs": [
    {
     "name": "stdout",
     "output_type": "stream",
     "text": [
      "Epoch 1/100\n",
      "58s - loss: 1.6076 - acc: 0.4256 - val_loss: 0.4876 - val_acc: 0.8560\n",
      "Epoch 2/100\n",
      "58s - loss: 0.6638 - acc: 0.7847 - val_loss: 0.1906 - val_acc: 0.9429\n",
      "Epoch 3/100\n",
      "58s - loss: 0.4340 - acc: 0.8639 - val_loss: 0.1296 - val_acc: 0.9593\n",
      "Epoch 4/100\n",
      "59s - loss: 0.3329 - acc: 0.8969 - val_loss: 0.1630 - val_acc: 0.9512\n",
      "Epoch 5/100\n",
      "64s - loss: 0.2711 - acc: 0.9195 - val_loss: 0.1005 - val_acc: 0.9705\n",
      "Epoch 6/100\n",
      "63s - loss: 0.2479 - acc: 0.9307 - val_loss: 0.0817 - val_acc: 0.9745\n",
      "Epoch 7/100\n",
      "61s - loss: 0.2215 - acc: 0.9300 - val_loss: 0.0768 - val_acc: 0.9764\n",
      "Epoch 8/100\n",
      "60s - loss: 0.1839 - acc: 0.9450 - val_loss: 0.0742 - val_acc: 0.9786\n",
      "Epoch 9/100\n",
      "63s - loss: 0.1922 - acc: 0.9408 - val_loss: 0.0874 - val_acc: 0.9745\n",
      "Epoch 10/100\n",
      "60s - loss: 0.1882 - acc: 0.9452 - val_loss: 0.0639 - val_acc: 0.9800\n",
      "Epoch 11/100\n",
      "58s - loss: 0.1726 - acc: 0.9508 - val_loss: 0.0664 - val_acc: 0.9802\n",
      "Epoch 12/100\n",
      "60s - loss: 0.1535 - acc: 0.9573 - val_loss: 0.0547 - val_acc: 0.9833\n",
      "Epoch 13/100\n",
      "62s - loss: 0.1294 - acc: 0.9608 - val_loss: 0.0585 - val_acc: 0.9824\n",
      "Epoch 14/100\n",
      "62s - loss: 0.1454 - acc: 0.9581 - val_loss: 0.0664 - val_acc: 0.9819\n",
      "Epoch 15/100\n",
      "58s - loss: 0.1483 - acc: 0.9562 - val_loss: 0.0447 - val_acc: 0.9874\n",
      "Epoch 16/100\n",
      "57s - loss: 0.1264 - acc: 0.9625 - val_loss: 0.0538 - val_acc: 0.9840\n",
      "Epoch 17/100\n",
      "56s - loss: 0.1348 - acc: 0.9594 - val_loss: 0.0532 - val_acc: 0.9840\n",
      "Epoch 18/100\n",
      "58s - loss: 0.1452 - acc: 0.9570 - val_loss: 0.0502 - val_acc: 0.9838\n",
      "Epoch 19/100\n",
      "\n",
      "Epoch 00018: reducing learning rate to 0.0005000000237487257.\n",
      "58s - loss: 0.1143 - acc: 0.9672 - val_loss: 0.0514 - val_acc: 0.9829\n",
      "Epoch 20/100\n",
      "60s - loss: 0.1075 - acc: 0.9694 - val_loss: 0.0411 - val_acc: 0.9857\n",
      "Epoch 21/100\n",
      "59s - loss: 0.0978 - acc: 0.9683 - val_loss: 0.0396 - val_acc: 0.9867\n",
      "Epoch 22/100\n",
      "59s - loss: 0.1100 - acc: 0.9681 - val_loss: 0.0367 - val_acc: 0.9879\n",
      "Epoch 23/100\n",
      "59s - loss: 0.1055 - acc: 0.9686 - val_loss: 0.0396 - val_acc: 0.9883\n",
      "Epoch 24/100\n",
      "56s - loss: 0.1049 - acc: 0.9715 - val_loss: 0.0471 - val_acc: 0.9852\n",
      "Epoch 25/100\n",
      "56s - loss: 0.0982 - acc: 0.9708 - val_loss: 0.0361 - val_acc: 0.9888\n",
      "Epoch 26/100\n",
      "56s - loss: 0.1015 - acc: 0.9703 - val_loss: 0.0410 - val_acc: 0.9881\n",
      "Epoch 27/100\n",
      "57s - loss: 0.0907 - acc: 0.9708 - val_loss: 0.0370 - val_acc: 0.9881\n",
      "Epoch 28/100\n",
      "58s - loss: 0.1012 - acc: 0.9697 - val_loss: 0.0361 - val_acc: 0.9886\n",
      "Epoch 29/100\n",
      "59s - loss: 0.0977 - acc: 0.9702 - val_loss: 0.0323 - val_acc: 0.9898\n",
      "Epoch 30/100\n",
      "57s - loss: 0.0849 - acc: 0.9733 - val_loss: 0.0371 - val_acc: 0.9905\n",
      "Epoch 31/100\n",
      "59s - loss: 0.0885 - acc: 0.9747 - val_loss: 0.0343 - val_acc: 0.9900\n",
      "Epoch 32/100\n",
      "58s - loss: 0.0839 - acc: 0.9745 - val_loss: 0.0365 - val_acc: 0.9900\n",
      "Epoch 33/100\n",
      "60s - loss: 0.0915 - acc: 0.9723 - val_loss: 0.0324 - val_acc: 0.9902\n",
      "Epoch 34/100\n",
      "60s - loss: 0.1000 - acc: 0.9688 - val_loss: 0.0302 - val_acc: 0.9910\n",
      "Epoch 35/100\n",
      "60s - loss: 0.0813 - acc: 0.9769 - val_loss: 0.0335 - val_acc: 0.9919\n",
      "Epoch 36/100\n",
      "60s - loss: 0.0759 - acc: 0.9794 - val_loss: 0.0325 - val_acc: 0.9912\n",
      "Epoch 37/100\n",
      "60s - loss: 0.0952 - acc: 0.9723 - val_loss: 0.0319 - val_acc: 0.9900\n",
      "Epoch 38/100\n",
      "59s - loss: 0.0869 - acc: 0.9736 - val_loss: 0.0267 - val_acc: 0.9924\n",
      "Epoch 39/100\n",
      "56s - loss: 0.0846 - acc: 0.9772 - val_loss: 0.0283 - val_acc: 0.9917\n",
      "Epoch 40/100\n",
      "56s - loss: 0.0732 - acc: 0.9778 - val_loss: 0.0282 - val_acc: 0.9898\n",
      "Epoch 41/100\n",
      "56s - loss: 0.0843 - acc: 0.9756 - val_loss: 0.0351 - val_acc: 0.9898\n",
      "Epoch 42/100\n",
      "\n",
      "Epoch 00041: reducing learning rate to 0.0002500000118743628.\n",
      "57s - loss: 0.0823 - acc: 0.9773 - val_loss: 0.0260 - val_acc: 0.9921\n",
      "Epoch 43/100\n",
      "58s - loss: 0.0667 - acc: 0.9797 - val_loss: 0.0229 - val_acc: 0.9936\n",
      "Epoch 44/100\n",
      "59s - loss: 0.0785 - acc: 0.9769 - val_loss: 0.0255 - val_acc: 0.9919\n",
      "Epoch 45/100\n",
      "62s - loss: 0.0687 - acc: 0.9781 - val_loss: 0.0236 - val_acc: 0.9924\n",
      "Epoch 46/100\n",
      "62s - loss: 0.0693 - acc: 0.9809 - val_loss: 0.0260 - val_acc: 0.9914\n",
      "Epoch 47/100\n",
      "\n",
      "Epoch 00046: reducing learning rate to 0.0001250000059371814.\n",
      "61s - loss: 0.0797 - acc: 0.9761 - val_loss: 0.0248 - val_acc: 0.9917\n",
      "Epoch 48/100\n",
      "61s - loss: 0.0618 - acc: 0.9819 - val_loss: 0.0249 - val_acc: 0.9910\n",
      "Epoch 49/100\n",
      "61s - loss: 0.0577 - acc: 0.9841 - val_loss: 0.0232 - val_acc: 0.9914\n",
      "Epoch 50/100\n",
      "\n",
      "Epoch 00049: reducing learning rate to 6.25000029685907e-05.\n",
      "61s - loss: 0.0546 - acc: 0.9836 - val_loss: 0.0238 - val_acc: 0.9926\n",
      "Epoch 51/100\n",
      "61s - loss: 0.0672 - acc: 0.9798 - val_loss: 0.0222 - val_acc: 0.9929\n",
      "Epoch 52/100\n",
      "58s - loss: 0.0702 - acc: 0.9789 - val_loss: 0.0216 - val_acc: 0.9924\n",
      "Epoch 53/100\n",
      "\n",
      "Epoch 00052: reducing learning rate to 3.125000148429535e-05.\n",
      "58s - loss: 0.0675 - acc: 0.9806 - val_loss: 0.0214 - val_acc: 0.9931\n",
      "Epoch 54/100\n",
      "59s - loss: 0.0655 - acc: 0.9804 - val_loss: 0.0208 - val_acc: 0.9931\n",
      "Epoch 55/100\n",
      "59s - loss: 0.0544 - acc: 0.9830 - val_loss: 0.0220 - val_acc: 0.9931\n",
      "Epoch 56/100\n",
      "\n",
      "Epoch 00055: reducing learning rate to 1.5625000742147677e-05.\n",
      "57s - loss: 0.0641 - acc: 0.9833 - val_loss: 0.0220 - val_acc: 0.9931\n",
      "Epoch 57/100\n",
      "56s - loss: 0.0544 - acc: 0.9838 - val_loss: 0.0219 - val_acc: 0.9929\n",
      "Epoch 58/100\n",
      "56s - loss: 0.0532 - acc: 0.9819 - val_loss: 0.0218 - val_acc: 0.9926\n",
      "Epoch 59/100\n",
      "\n",
      "Epoch 00058: reducing learning rate to 1e-05.\n",
      "56s - loss: 0.0518 - acc: 0.9841 - val_loss: 0.0215 - val_acc: 0.9931\n",
      "Epoch 60/100\n",
      "56s - loss: 0.0617 - acc: 0.9818 - val_loss: 0.0217 - val_acc: 0.9929\n",
      "Epoch 61/100\n"
     ]
    },
    {
     "ename": "KeyboardInterrupt",
     "evalue": "",
     "output_type": "error",
     "traceback": [
      "\u001b[0;31m---------------------------------------------------------------------------\u001b[0m",
      "\u001b[0;31mKeyboardInterrupt\u001b[0m                         Traceback (most recent call last)",
      "\u001b[0;32m<ipython-input-9-d3438b5fe1e2>\u001b[0m in \u001b[0;36m<module>\u001b[0;34m()\u001b[0m\n\u001b[1;32m     19\u001b[0m                               \u001b[0mepochs\u001b[0m \u001b[0;34m=\u001b[0m \u001b[0mepochs\u001b[0m\u001b[0;34m,\u001b[0m \u001b[0mvalidation_data\u001b[0m \u001b[0;34m=\u001b[0m \u001b[0;34m(\u001b[0m\u001b[0mX_val\u001b[0m\u001b[0;34m,\u001b[0m\u001b[0mY_val\u001b[0m\u001b[0;34m)\u001b[0m\u001b[0;34m,\u001b[0m\u001b[0;34m\u001b[0m\u001b[0m\n\u001b[1;32m     20\u001b[0m                               \u001b[0mverbose\u001b[0m \u001b[0;34m=\u001b[0m \u001b[0;36m2\u001b[0m\u001b[0;34m,\u001b[0m \u001b[0msteps_per_epoch\u001b[0m\u001b[0;34m=\u001b[0m\u001b[0msteps_per_epoch\u001b[0m\u001b[0;34m,\u001b[0m\u001b[0;34m\u001b[0m\u001b[0m\n\u001b[0;32m---> 21\u001b[0;31m                               callbacks=[best_model,learning_rate_reduction])\n\u001b[0m",
      "\u001b[0;32m/home/jac/.local/lib/python3.5/site-packages/keras/legacy/interfaces.py\u001b[0m in \u001b[0;36mwrapper\u001b[0;34m(*args, **kwargs)\u001b[0m\n\u001b[1;32m     85\u001b[0m                 warnings.warn('Update your `' + object_name +\n\u001b[1;32m     86\u001b[0m                               '` call to the Keras 2 API: ' + signature, stacklevel=2)\n\u001b[0;32m---> 87\u001b[0;31m             \u001b[0;32mreturn\u001b[0m \u001b[0mfunc\u001b[0m\u001b[0;34m(\u001b[0m\u001b[0;34m*\u001b[0m\u001b[0margs\u001b[0m\u001b[0;34m,\u001b[0m \u001b[0;34m**\u001b[0m\u001b[0mkwargs\u001b[0m\u001b[0;34m)\u001b[0m\u001b[0;34m\u001b[0m\u001b[0m\n\u001b[0m\u001b[1;32m     88\u001b[0m         \u001b[0mwrapper\u001b[0m\u001b[0;34m.\u001b[0m\u001b[0m_original_function\u001b[0m \u001b[0;34m=\u001b[0m \u001b[0mfunc\u001b[0m\u001b[0;34m\u001b[0m\u001b[0m\n\u001b[1;32m     89\u001b[0m         \u001b[0;32mreturn\u001b[0m \u001b[0mwrapper\u001b[0m\u001b[0;34m\u001b[0m\u001b[0m\n",
      "\u001b[0;32m/home/jac/.local/lib/python3.5/site-packages/keras/models.py\u001b[0m in \u001b[0;36mfit_generator\u001b[0;34m(self, generator, steps_per_epoch, epochs, verbose, callbacks, validation_data, validation_steps, class_weight, max_queue_size, workers, use_multiprocessing, initial_epoch)\u001b[0m\n\u001b[1;32m   1115\u001b[0m                                         \u001b[0mworkers\u001b[0m\u001b[0;34m=\u001b[0m\u001b[0mworkers\u001b[0m\u001b[0;34m,\u001b[0m\u001b[0;34m\u001b[0m\u001b[0m\n\u001b[1;32m   1116\u001b[0m                                         \u001b[0muse_multiprocessing\u001b[0m\u001b[0;34m=\u001b[0m\u001b[0muse_multiprocessing\u001b[0m\u001b[0;34m,\u001b[0m\u001b[0;34m\u001b[0m\u001b[0m\n\u001b[0;32m-> 1117\u001b[0;31m                                         initial_epoch=initial_epoch)\n\u001b[0m\u001b[1;32m   1118\u001b[0m \u001b[0;34m\u001b[0m\u001b[0m\n\u001b[1;32m   1119\u001b[0m     \u001b[0;34m@\u001b[0m\u001b[0minterfaces\u001b[0m\u001b[0;34m.\u001b[0m\u001b[0mlegacy_generator_methods_support\u001b[0m\u001b[0;34m\u001b[0m\u001b[0m\n",
      "\u001b[0;32m/home/jac/.local/lib/python3.5/site-packages/keras/legacy/interfaces.py\u001b[0m in \u001b[0;36mwrapper\u001b[0;34m(*args, **kwargs)\u001b[0m\n\u001b[1;32m     85\u001b[0m                 warnings.warn('Update your `' + object_name +\n\u001b[1;32m     86\u001b[0m                               '` call to the Keras 2 API: ' + signature, stacklevel=2)\n\u001b[0;32m---> 87\u001b[0;31m             \u001b[0;32mreturn\u001b[0m \u001b[0mfunc\u001b[0m\u001b[0;34m(\u001b[0m\u001b[0;34m*\u001b[0m\u001b[0margs\u001b[0m\u001b[0;34m,\u001b[0m \u001b[0;34m**\u001b[0m\u001b[0mkwargs\u001b[0m\u001b[0;34m)\u001b[0m\u001b[0;34m\u001b[0m\u001b[0m\n\u001b[0m\u001b[1;32m     88\u001b[0m         \u001b[0mwrapper\u001b[0m\u001b[0;34m.\u001b[0m\u001b[0m_original_function\u001b[0m \u001b[0;34m=\u001b[0m \u001b[0mfunc\u001b[0m\u001b[0;34m\u001b[0m\u001b[0m\n\u001b[1;32m     89\u001b[0m         \u001b[0;32mreturn\u001b[0m \u001b[0mwrapper\u001b[0m\u001b[0;34m\u001b[0m\u001b[0m\n",
      "\u001b[0;32m/home/jac/.local/lib/python3.5/site-packages/keras/engine/training.py\u001b[0m in \u001b[0;36mfit_generator\u001b[0;34m(self, generator, steps_per_epoch, epochs, verbose, callbacks, validation_data, validation_steps, class_weight, max_queue_size, workers, use_multiprocessing, initial_epoch)\u001b[0m\n\u001b[1;32m   1838\u001b[0m                     outs = self.train_on_batch(x, y,\n\u001b[1;32m   1839\u001b[0m                                                \u001b[0msample_weight\u001b[0m\u001b[0;34m=\u001b[0m\u001b[0msample_weight\u001b[0m\u001b[0;34m,\u001b[0m\u001b[0;34m\u001b[0m\u001b[0m\n\u001b[0;32m-> 1840\u001b[0;31m                                                class_weight=class_weight)\n\u001b[0m\u001b[1;32m   1841\u001b[0m \u001b[0;34m\u001b[0m\u001b[0m\n\u001b[1;32m   1842\u001b[0m                     \u001b[0;32mif\u001b[0m \u001b[0;32mnot\u001b[0m \u001b[0misinstance\u001b[0m\u001b[0;34m(\u001b[0m\u001b[0mouts\u001b[0m\u001b[0;34m,\u001b[0m \u001b[0mlist\u001b[0m\u001b[0;34m)\u001b[0m\u001b[0;34m:\u001b[0m\u001b[0;34m\u001b[0m\u001b[0m\n",
      "\u001b[0;32m/home/jac/.local/lib/python3.5/site-packages/keras/engine/training.py\u001b[0m in \u001b[0;36mtrain_on_batch\u001b[0;34m(self, x, y, sample_weight, class_weight)\u001b[0m\n\u001b[1;32m   1563\u001b[0m             \u001b[0mins\u001b[0m \u001b[0;34m=\u001b[0m \u001b[0mx\u001b[0m \u001b[0;34m+\u001b[0m \u001b[0my\u001b[0m \u001b[0;34m+\u001b[0m \u001b[0msample_weights\u001b[0m\u001b[0;34m\u001b[0m\u001b[0m\n\u001b[1;32m   1564\u001b[0m         \u001b[0mself\u001b[0m\u001b[0;34m.\u001b[0m\u001b[0m_make_train_function\u001b[0m\u001b[0;34m(\u001b[0m\u001b[0;34m)\u001b[0m\u001b[0;34m\u001b[0m\u001b[0m\n\u001b[0;32m-> 1565\u001b[0;31m         \u001b[0moutputs\u001b[0m \u001b[0;34m=\u001b[0m \u001b[0mself\u001b[0m\u001b[0;34m.\u001b[0m\u001b[0mtrain_function\u001b[0m\u001b[0;34m(\u001b[0m\u001b[0mins\u001b[0m\u001b[0;34m)\u001b[0m\u001b[0;34m\u001b[0m\u001b[0m\n\u001b[0m\u001b[1;32m   1566\u001b[0m         \u001b[0;32mif\u001b[0m \u001b[0mlen\u001b[0m\u001b[0;34m(\u001b[0m\u001b[0moutputs\u001b[0m\u001b[0;34m)\u001b[0m \u001b[0;34m==\u001b[0m \u001b[0;36m1\u001b[0m\u001b[0;34m:\u001b[0m\u001b[0;34m\u001b[0m\u001b[0m\n\u001b[1;32m   1567\u001b[0m             \u001b[0;32mreturn\u001b[0m \u001b[0moutputs\u001b[0m\u001b[0;34m[\u001b[0m\u001b[0;36m0\u001b[0m\u001b[0;34m]\u001b[0m\u001b[0;34m\u001b[0m\u001b[0m\n",
      "\u001b[0;32m/home/jac/.local/lib/python3.5/site-packages/keras/backend/theano_backend.py\u001b[0m in \u001b[0;36m__call__\u001b[0;34m(self, inputs)\u001b[0m\n\u001b[1;32m   1195\u001b[0m     \u001b[0;32mdef\u001b[0m \u001b[0m__call__\u001b[0m\u001b[0;34m(\u001b[0m\u001b[0mself\u001b[0m\u001b[0;34m,\u001b[0m \u001b[0minputs\u001b[0m\u001b[0;34m)\u001b[0m\u001b[0;34m:\u001b[0m\u001b[0;34m\u001b[0m\u001b[0m\n\u001b[1;32m   1196\u001b[0m         \u001b[0;32massert\u001b[0m \u001b[0misinstance\u001b[0m\u001b[0;34m(\u001b[0m\u001b[0minputs\u001b[0m\u001b[0;34m,\u001b[0m \u001b[0;34m(\u001b[0m\u001b[0mlist\u001b[0m\u001b[0;34m,\u001b[0m \u001b[0mtuple\u001b[0m\u001b[0;34m)\u001b[0m\u001b[0;34m)\u001b[0m\u001b[0;34m\u001b[0m\u001b[0m\n\u001b[0;32m-> 1197\u001b[0;31m         \u001b[0;32mreturn\u001b[0m \u001b[0mself\u001b[0m\u001b[0;34m.\u001b[0m\u001b[0mfunction\u001b[0m\u001b[0;34m(\u001b[0m\u001b[0;34m*\u001b[0m\u001b[0minputs\u001b[0m\u001b[0;34m)\u001b[0m\u001b[0;34m\u001b[0m\u001b[0m\n\u001b[0m\u001b[1;32m   1198\u001b[0m \u001b[0;34m\u001b[0m\u001b[0m\n\u001b[1;32m   1199\u001b[0m \u001b[0;34m\u001b[0m\u001b[0m\n",
      "\u001b[0;32m/home/jac/.local/lib/python3.5/site-packages/theano/compile/function_module.py\u001b[0m in \u001b[0;36m__call__\u001b[0;34m(self, *args, **kwargs)\u001b[0m\n\u001b[1;32m    882\u001b[0m         \u001b[0;32mtry\u001b[0m\u001b[0;34m:\u001b[0m\u001b[0;34m\u001b[0m\u001b[0m\n\u001b[1;32m    883\u001b[0m             \u001b[0moutputs\u001b[0m \u001b[0;34m=\u001b[0m\u001b[0;31m\\\u001b[0m\u001b[0;34m\u001b[0m\u001b[0m\n\u001b[0;32m--> 884\u001b[0;31m                 \u001b[0mself\u001b[0m\u001b[0;34m.\u001b[0m\u001b[0mfn\u001b[0m\u001b[0;34m(\u001b[0m\u001b[0;34m)\u001b[0m \u001b[0;32mif\u001b[0m \u001b[0moutput_subset\u001b[0m \u001b[0;32mis\u001b[0m \u001b[0;32mNone\u001b[0m \u001b[0;32melse\u001b[0m\u001b[0;31m\\\u001b[0m\u001b[0;34m\u001b[0m\u001b[0m\n\u001b[0m\u001b[1;32m    885\u001b[0m                 \u001b[0mself\u001b[0m\u001b[0;34m.\u001b[0m\u001b[0mfn\u001b[0m\u001b[0;34m(\u001b[0m\u001b[0moutput_subset\u001b[0m\u001b[0;34m=\u001b[0m\u001b[0moutput_subset\u001b[0m\u001b[0;34m)\u001b[0m\u001b[0;34m\u001b[0m\u001b[0m\n\u001b[1;32m    886\u001b[0m         \u001b[0;32mexcept\u001b[0m \u001b[0mException\u001b[0m\u001b[0;34m:\u001b[0m\u001b[0;34m\u001b[0m\u001b[0m\n",
      "\u001b[0;31mKeyboardInterrupt\u001b[0m: "
     ]
    }
   ],
   "source": [
    "from keras.callbacks import CSVLogger, ModelCheckpoint, LearningRateScheduler, ReduceLROnPlateau\n",
    "from keras.models import load_model\n",
    "\n",
    "learning_rate_reduction = ReduceLROnPlateau(monitor='val_acc', \n",
    "                                            patience=5, \n",
    "                                            verbose=1, \n",
    "                                            factor=0.6, \n",
    "                                            min_lr=0.00001)\n",
    "#2017-09-05 log\n",
    "#275s - loss: 0.0475 - acc: 0.9847 - val_loss: 0.0183 - val_acc: 0.9945 64 filter version\n",
    "#Epoch 30/60\n",
    "    \n",
    "best_model_path = 'best_m_v2.h5'\n",
    "best_model = ModelCheckpoint(filepath=best_model_path, monitor='acc', save_best_only=True)\n",
    "epochs = 100\n",
    "steps_per_epoch = 100\n",
    "batch_size = 64\n",
    "model.fit_generator(datagen.flow(X_train,Y_train, batch_size=batch_size),\n",
    "                              epochs = epochs, validation_data = (X_val,Y_val),\n",
    "                              verbose = 2, steps_per_epoch=steps_per_epoch,\n",
    "                              callbacks=[best_model,learning_rate_reduction])"
   ]
  },
  {
   "cell_type": "code",
   "execution_count": 10,
   "metadata": {
    "collapsed": false
   },
   "outputs": [
    {
     "name": "stdout",
     "output_type": "stream",
     "text": [
      "save done play_cnn_mnist_datagen_2017-09-06T11_28_26_29.csv\n"
     ]
    }
   ],
   "source": [
    "# predict results use last model\n",
    "results = model.predict(test)\n",
    "# select the indix with the maximum probability\n",
    "results = np.argmax(results,axis = 1)\n",
    "results = pd.Series(results,name=\"Label\")\n",
    "import arrow\n",
    "ts = str(arrow.now())[:-10].replace(':','_').replace('.',\"_\")\n",
    "res_file = \"play_cnn_mnist_datagen_{}.csv\".format(ts)\n",
    "submission = pd.concat([pd.Series(range(1,28001),name = \"ImageId\"),results],axis = 1)\n",
    "submission.to_csv(res_file,index=False)\n",
    "print('save done',res_file)"
   ]
  },
  {
   "cell_type": "code",
   "execution_count": 11,
   "metadata": {
    "collapsed": false
   },
   "outputs": [
    {
     "name": "stdout",
     "output_type": "stream",
     "text": [
      "save done play_cnn_mnist_datagen_2017-09-06T11_29_44_87.csv\n"
     ]
    }
   ],
   "source": [
    "model = load_model(best_model_path)  # try callback model\n",
    "# predict results\n",
    "results = model.predict(test)\n",
    "# select the indix with the maximum probability\n",
    "results = np.argmax(results,axis = 1)\n",
    "results = pd.Series(results,name=\"Label\")\n",
    "ts = str(arrow.now())[:-10].replace(':','_').replace('.',\"_\")\n",
    "res_file = \"play_cnn_mnist_datagen_{}.csv\".format(ts)\n",
    "submission = pd.concat([pd.Series(range(1,28001),name = \"ImageId\"),results],axis = 1)\n",
    "submission.to_csv(res_file,index=False)\n",
    "print('save done',res_file)"
   ]
  }
 ],
 "metadata": {
  "kernelspec": {
   "display_name": "Python 3",
   "language": "python",
   "name": "python3"
  },
  "language_info": {
   "codemirror_mode": {
    "name": "ipython",
    "version": 3
   },
   "file_extension": ".py",
   "mimetype": "text/x-python",
   "name": "python",
   "nbconvert_exporter": "python",
   "pygments_lexer": "ipython3",
   "version": "3.5.2"
  }
 },
 "nbformat": 4,
 "nbformat_minor": 0
}
