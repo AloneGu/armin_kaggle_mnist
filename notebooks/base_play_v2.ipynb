{
 "cells": [
  {
   "cell_type": "code",
   "execution_count": 1,
   "metadata": {
    "collapsed": false
   },
   "outputs": [
    {
     "name": "stderr",
     "output_type": "stream",
     "text": [
      "Using Theano backend.\n"
     ]
    }
   ],
   "source": [
    "import pandas as pd\n",
    "import numpy as np\n",
    "import matplotlib.pyplot as plt\n",
    "import matplotlib.image as mpimg\n",
    "\n",
    "\n",
    "from sklearn.model_selection import train_test_split\n",
    "from sklearn.metrics import confusion_matrix\n",
    "import itertools\n",
    "\n",
    "from keras.utils.np_utils import to_categorical # convert to one-hot-encoding\n",
    "from keras.models import Sequential\n",
    "from keras.layers import Dense, Dropout, Flatten, Conv2D, MaxPool2D\n",
    "from keras.optimizers import RMSprop, Adam\n",
    "from keras.preprocessing.image import ImageDataGenerator\n",
    "from keras.callbacks import ReduceLROnPlateau"
   ]
  },
  {
   "cell_type": "code",
   "execution_count": 2,
   "metadata": {
    "collapsed": true
   },
   "outputs": [],
   "source": [
    "train = pd.read_csv(\"../input/train.csv\")\n",
    "test = pd.read_csv(\"../input/test.csv\")"
   ]
  },
  {
   "cell_type": "code",
   "execution_count": 3,
   "metadata": {
    "collapsed": true
   },
   "outputs": [],
   "source": [
    "Y_train = train[\"label\"]\n",
    "\n",
    "# Drop 'label' column\n",
    "X_train = train.drop(labels = [\"label\"],axis = 1) \n",
    "\n",
    "# free some space\n",
    "del train "
   ]
  },
  {
   "cell_type": "code",
   "execution_count": 4,
   "metadata": {
    "collapsed": false
   },
   "outputs": [],
   "source": [
    "# Normalize the data\n",
    "X_train = X_train / 255.0\n",
    "test = test / 255.0\n",
    "# Reshape image in 3 dimensions (height = 28px, width = 28px , canal = 1)\n",
    "X_train = X_train.values.reshape(-1,1,28,28)\n",
    "test = test.values.reshape(-1,1,28,28)"
   ]
  },
  {
   "cell_type": "code",
   "execution_count": 5,
   "metadata": {
    "collapsed": false
   },
   "outputs": [
    {
     "name": "stdout",
     "output_type": "stream",
     "text": [
      "(37800, 1, 28, 28) (37800, 10)\n"
     ]
    }
   ],
   "source": [
    "Y_train = to_categorical(Y_train, num_classes = 10)\n",
    "\n",
    "# Split the train and the validation set for the fitting\n",
    "X_train, X_val, Y_train, Y_val = train_test_split(X_train, Y_train, test_size = 0.1, random_state=2)\n",
    "print(X_train.shape, Y_train.shape)"
   ]
  },
  {
   "cell_type": "code",
   "execution_count": 6,
   "metadata": {
    "collapsed": false
   },
   "outputs": [
    {
     "name": "stdout",
     "output_type": "stream",
     "text": [
      "compile done\n"
     ]
    }
   ],
   "source": [
    "model = Sequential()\n",
    "\n",
    "# conv1\n",
    "model.add(Conv2D(filters = 48, kernel_size = (5,5),padding = 'same', \n",
    "                 activation ='relu', input_shape = (1,28,28)))\n",
    "model.add(Conv2D(filters = 48, kernel_size = (5,5),padding = 'same', \n",
    "                 activation ='relu'))\n",
    "model.add(MaxPool2D(pool_size=(2,2)))\n",
    "model.add(Dropout(0.3))\n",
    "# conv2\n",
    "model.add(Conv2D(filters = 64, kernel_size = (3,3),padding = 'same', \n",
    "                 activation ='relu'))\n",
    "model.add(Conv2D(filters = 64, kernel_size = (3,3),padding = 'same', \n",
    "                 activation ='relu'))\n",
    "model.add(MaxPool2D(pool_size=(2,2), strides=(2,2)))\n",
    "# flatten\n",
    "model.add(Dropout(0.3))\n",
    "model.add(Flatten())\n",
    "model.add(Dense(512, activation = \"relu\"))\n",
    "model.add(Dropout(0.3))\n",
    "model.add(Dense(256, activation = \"relu\"))\n",
    "model.add(Dropout(0.3))\n",
    "model.add(Dense(10, activation = \"softmax\"))\n",
    "# Compile the model\n",
    "\n",
    "opt = Adam(lr=0.001)\n",
    "model.compile(optimizer = opt , loss = \"categorical_crossentropy\", metrics=[\"accuracy\"])\n",
    "print(\"compile done\")"
   ]
  },
  {
   "cell_type": "code",
   "execution_count": null,
   "metadata": {
    "collapsed": false
   },
   "outputs": [
    {
     "name": "stderr",
     "output_type": "stream",
     "text": [
      "/home/jac/.local/lib/python3.5/site-packages/keras/preprocessing/image.py:653: UserWarning: Expected input to be images (as Numpy array) following the data format convention \"channels_first\" (channels on axis 1), i.e. expected either 1, 3 or 4 channels on axis 1. However, it was passed an array with shape (37800, 1, 28, 28) (1 channels).\n",
      "  ' (' + str(x.shape[self.channel_axis]) + ' channels).')\n"
     ]
    }
   ],
   "source": [
    "datagen = ImageDataGenerator(\n",
    "        featurewise_center=False,  # set input mean to 0 over the dataset\n",
    "        samplewise_center=False,  # set each sample mean to 0\n",
    "        featurewise_std_normalization=False,  # divide inputs by std of the dataset\n",
    "        samplewise_std_normalization=False,  # divide each input by its std\n",
    "        zca_whitening=False,  # apply ZCA whitening\n",
    "        rotation_range=10,  # randomly rotate images in the range (degrees, 0 to 180)\n",
    "        zoom_range = 0.1, # Randomly zoom image \n",
    "        width_shift_range=0.1,  # randomly shift images horizontally (fraction of total width)\n",
    "        height_shift_range=0.1,  # randomly shift images vertically (fraction of total height)\n",
    "        horizontal_flip=False,  # randomly flip images\n",
    "        vertical_flip=False)  # randomly flip images\n",
    "\n",
    "\n",
    "datagen.fit(X_train)"
   ]
  },
  {
   "cell_type": "code",
   "execution_count": null,
   "metadata": {
    "collapsed": false
   },
   "outputs": [
    {
     "name": "stdout",
     "output_type": "stream",
     "text": [
      "Epoch 1/60\n",
      "273s - loss: 0.9968 - acc: 0.6604 - val_loss: 0.1493 - val_acc: 0.9529\n",
      "Epoch 2/60\n",
      "273s - loss: 0.2976 - acc: 0.9050 - val_loss: 0.1063 - val_acc: 0.9681\n",
      "Epoch 3/60\n",
      "277s - loss: 0.1939 - acc: 0.9400 - val_loss: 0.0868 - val_acc: 0.9748\n",
      "Epoch 4/60\n",
      "276s - loss: 0.1762 - acc: 0.9453 - val_loss: 0.0745 - val_acc: 0.9793\n",
      "Epoch 5/60\n",
      "266s - loss: 0.1490 - acc: 0.9549 - val_loss: 0.0542 - val_acc: 0.9833\n",
      "Epoch 6/60\n",
      "266s - loss: 0.1381 - acc: 0.9599 - val_loss: 0.0634 - val_acc: 0.9826\n",
      "Epoch 7/60\n",
      "267s - loss: 0.1289 - acc: 0.9606 - val_loss: 0.0551 - val_acc: 0.9843\n",
      "Epoch 8/60\n",
      "273s - loss: 0.1076 - acc: 0.9650 - val_loss: 0.0450 - val_acc: 0.9855\n",
      "Epoch 9/60\n",
      "279s - loss: 0.1022 - acc: 0.9694 - val_loss: 0.0457 - val_acc: 0.9864\n",
      "Epoch 10/60\n",
      "281s - loss: 0.0998 - acc: 0.9700 - val_loss: 0.0492 - val_acc: 0.9864\n",
      "Epoch 11/60\n",
      "271s - loss: 0.0974 - acc: 0.9708 - val_loss: 0.0484 - val_acc: 0.9860\n",
      "Epoch 12/60\n",
      "273s - loss: 0.0849 - acc: 0.9739 - val_loss: 0.0396 - val_acc: 0.9876\n",
      "Epoch 13/60\n",
      "277s - loss: 0.0950 - acc: 0.9699 - val_loss: 0.0304 - val_acc: 0.9910\n",
      "Epoch 14/60\n",
      "282s - loss: 0.0780 - acc: 0.9768 - val_loss: 0.0401 - val_acc: 0.9900\n",
      "Epoch 15/60\n",
      "278s - loss: 0.0862 - acc: 0.9751 - val_loss: 0.0440 - val_acc: 0.9867\n",
      "Epoch 16/60\n",
      "279s - loss: 0.0749 - acc: 0.9773 - val_loss: 0.0335 - val_acc: 0.9905\n",
      "Epoch 17/60\n",
      "274s - loss: 0.0746 - acc: 0.9788 - val_loss: 0.0314 - val_acc: 0.9919\n",
      "Epoch 18/60\n",
      "276s - loss: 0.0867 - acc: 0.9750 - val_loss: 0.0336 - val_acc: 0.9912\n",
      "Epoch 19/60\n",
      "277s - loss: 0.0719 - acc: 0.9776 - val_loss: 0.0276 - val_acc: 0.9926\n",
      "Epoch 20/60\n",
      "273s - loss: 0.0782 - acc: 0.9777 - val_loss: 0.0332 - val_acc: 0.9912\n",
      "Epoch 21/60\n",
      "271s - loss: 0.0644 - acc: 0.9803 - val_loss: 0.0424 - val_acc: 0.9900\n",
      "Epoch 22/60\n",
      "277s - loss: 0.0707 - acc: 0.9800 - val_loss: 0.0241 - val_acc: 0.9938\n",
      "Epoch 23/60\n",
      "275s - loss: 0.0629 - acc: 0.9811 - val_loss: 0.0233 - val_acc: 0.9938\n",
      "Epoch 24/60\n",
      "277s - loss: 0.0732 - acc: 0.9780 - val_loss: 0.0287 - val_acc: 0.9921\n",
      "Epoch 25/60\n",
      "282s - loss: 0.0733 - acc: 0.9792 - val_loss: 0.0259 - val_acc: 0.9938\n",
      "Epoch 26/60\n",
      "\n",
      "Epoch 00025: reducing learning rate to 0.0005000000237487257.\n",
      "285s - loss: 0.0600 - acc: 0.9837 - val_loss: 0.0341 - val_acc: 0.9910\n",
      "Epoch 27/60\n",
      "269s - loss: 0.0600 - acc: 0.9818 - val_loss: 0.0204 - val_acc: 0.9933\n",
      "Epoch 28/60\n",
      "273s - loss: 0.0489 - acc: 0.9840 - val_loss: 0.0213 - val_acc: 0.9921\n",
      "Epoch 29/60\n",
      "275s - loss: 0.0475 - acc: 0.9847 - val_loss: 0.0183 - val_acc: 0.9945\n",
      "Epoch 30/60\n",
      "270s - loss: 0.0446 - acc: 0.9854 - val_loss: 0.0219 - val_acc: 0.9929\n",
      "Epoch 31/60\n"
     ]
    }
   ],
   "source": [
    "from keras.callbacks import CSVLogger, ModelCheckpoint, LearningRateScheduler, ReduceLROnPlateau\n",
    "from keras.models import load_model\n",
    "\n",
    "learning_rate_reduction = ReduceLROnPlateau(monitor='val_acc', \n",
    "                                            patience=3, \n",
    "                                            verbose=1, \n",
    "                                            factor=0.5, \n",
    "                                            min_lr=0.00001)\n",
    "#2017-09-05 log\n",
    "#275s - loss: 0.0475 - acc: 0.9847 - val_loss: 0.0183 - val_acc: 0.9945\n",
    "#Epoch 30/60\n",
    "    \n",
    "best_model_path = 'best_m_v2.h5'\n",
    "best_model = ModelCheckpoint(filepath=best_model_path, monitor='acc', save_best_only=True)\n",
    "epochs = 40\n",
    "steps_per_epoch = 100\n",
    "batch_size = 90\n",
    "model.fit_generator(datagen.flow(X_train,Y_train, batch_size=batch_size),\n",
    "                              epochs = epochs, validation_data = (X_val,Y_val),\n",
    "                              verbose = 2, steps_per_epoch=steps_per_epoch,\n",
    "                              callbacks=[best_model,learning_rate_reduction])\n",
    "model = load_model(best_model_path)"
   ]
  },
  {
   "cell_type": "code",
   "execution_count": null,
   "metadata": {
    "collapsed": true
   },
   "outputs": [],
   "source": [
    "# predict results\n",
    "results = model.predict(test)\n",
    "\n",
    "# select the indix with the maximum probability\n",
    "results = np.argmax(results,axis = 1)\n",
    "\n",
    "results = pd.Series(results,name=\"Label\")"
   ]
  },
  {
   "cell_type": "code",
   "execution_count": null,
   "metadata": {
    "collapsed": false
   },
   "outputs": [],
   "source": [
    "import arrow\n",
    "ts = str(arrow.now())[:-10].replace(':','_').replace('.',\"_\")\n",
    "res_file = \"play_cnn_mnist_datagen_{}.csv\".format(ts)\n",
    "\n",
    "submission = pd.concat([pd.Series(range(1,28001),name = \"ImageId\"),results],axis = 1)\n",
    "\n",
    "submission.to_csv(res_file,index=False)\n",
    "\n",
    "print('save done',res_file)"
   ]
  }
 ],
 "metadata": {
  "kernelspec": {
   "display_name": "Python 3",
   "language": "python",
   "name": "python3"
  },
  "language_info": {
   "codemirror_mode": {
    "name": "ipython",
    "version": 3
   },
   "file_extension": ".py",
   "mimetype": "text/x-python",
   "name": "python",
   "nbconvert_exporter": "python",
   "pygments_lexer": "ipython3",
   "version": "3.5.2"
  }
 },
 "nbformat": 4,
 "nbformat_minor": 0
}
