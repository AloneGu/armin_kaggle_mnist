{
 "cells": [
  {
   "cell_type": "code",
   "execution_count": 1,
   "metadata": {
    "collapsed": false
   },
   "outputs": [
    {
     "name": "stderr",
     "output_type": "stream",
     "text": [
      "Using Theano backend.\n"
     ]
    }
   ],
   "source": [
    "import pandas as pd\n",
    "import numpy as np\n",
    "import matplotlib.pyplot as plt\n",
    "import matplotlib.image as mpimg\n",
    "\n",
    "\n",
    "from sklearn.model_selection import train_test_split\n",
    "from sklearn.metrics import confusion_matrix\n",
    "import itertools\n",
    "\n",
    "from keras.utils.np_utils import to_categorical # convert to one-hot-encoding\n",
    "from keras.models import Sequential\n",
    "from keras.layers import Dense, Dropout, Flatten, Conv2D, MaxPool2D\n",
    "from keras.optimizers import RMSprop, Adam\n",
    "from keras.preprocessing.image import ImageDataGenerator\n",
    "from keras.callbacks import ReduceLROnPlateau"
   ]
  },
  {
   "cell_type": "code",
   "execution_count": 2,
   "metadata": {
    "collapsed": true
   },
   "outputs": [],
   "source": [
    "train = pd.read_csv(\"../input/train.csv\")\n",
    "test = pd.read_csv(\"../input/test.csv\")"
   ]
  },
  {
   "cell_type": "code",
   "execution_count": 3,
   "metadata": {
    "collapsed": true
   },
   "outputs": [],
   "source": [
    "Y_train = train[\"label\"]\n",
    "\n",
    "# Drop 'label' column\n",
    "X_train = train.drop(labels = [\"label\"],axis = 1) \n",
    "\n",
    "# free some space\n",
    "del train "
   ]
  },
  {
   "cell_type": "code",
   "execution_count": 4,
   "metadata": {
    "collapsed": false
   },
   "outputs": [],
   "source": [
    "# Normalize the data\n",
    "X_train = X_train / 255.0\n",
    "test = test / 255.0\n",
    "# Reshape image in 3 dimensions (height = 28px, width = 28px , canal = 1)\n",
    "X_train = X_train.values.reshape(-1,1,28,28)\n",
    "test = test.values.reshape(-1,1,28,28)"
   ]
  },
  {
   "cell_type": "code",
   "execution_count": 5,
   "metadata": {
    "collapsed": false
   },
   "outputs": [
    {
     "name": "stdout",
     "output_type": "stream",
     "text": [
      "(37800, 1, 28, 28) (37800, 10)\n"
     ]
    }
   ],
   "source": [
    "Y_train = to_categorical(Y_train, num_classes = 10)\n",
    "\n",
    "# Split the train and the validation set for the fitting\n",
    "X_train, X_val, Y_train, Y_val = train_test_split(X_train, Y_train, test_size = 0.1, random_state=42)\n",
    "print(X_train.shape, Y_train.shape)"
   ]
  },
  {
   "cell_type": "code",
   "execution_count": 6,
   "metadata": {
    "collapsed": false
   },
   "outputs": [
    {
     "name": "stdout",
     "output_type": "stream",
     "text": [
      "compile done\n"
     ]
    }
   ],
   "source": [
    "model = Sequential()\n",
    "\n",
    "# conv1\n",
    "model.add(Conv2D(filters = 16, kernel_size = (5,5),padding = 'same', \n",
    "                 activation ='relu', input_shape = (1,28,28)))\n",
    "model.add(Conv2D(filters = 16, kernel_size = (5,5),padding = 'same', \n",
    "                 activation ='relu'))\n",
    "model.add(MaxPool2D(pool_size=(2,2)))\n",
    "model.add(Dropout(0.3))\n",
    "# conv2\n",
    "model.add(Conv2D(filters = 32, kernel_size = (3,3),padding = 'same', \n",
    "                 activation ='relu'))\n",
    "model.add(Conv2D(filters = 32, kernel_size = (3,3),padding = 'same', \n",
    "                 activation ='relu'))\n",
    "model.add(MaxPool2D(pool_size=(2,2), strides=(2,2)))\n",
    "# flatten\n",
    "model.add(Dropout(0.3))\n",
    "model.add(Flatten())\n",
    "model.add(Dense(512, activation = \"relu\"))\n",
    "model.add(Dropout(0.3))\n",
    "model.add(Dense(256, activation = \"relu\"))\n",
    "model.add(Dropout(0.3))\n",
    "model.add(Dense(10, activation = \"softmax\"))\n",
    "# Compile the model\n",
    "\n",
    "opt = Adam(lr=0.001)\n",
    "model.compile(optimizer = opt , loss = \"categorical_crossentropy\", metrics=[\"accuracy\"])\n",
    "print(\"compile done\")"
   ]
  },
  {
   "cell_type": "code",
   "execution_count": 7,
   "metadata": {
    "collapsed": false
   },
   "outputs": [
    {
     "name": "stderr",
     "output_type": "stream",
     "text": [
      "/home/jac/.local/lib/python3.5/site-packages/keras/preprocessing/image.py:653: UserWarning: Expected input to be images (as Numpy array) following the data format convention \"channels_first\" (channels on axis 1), i.e. expected either 1, 3 or 4 channels on axis 1. However, it was passed an array with shape (37800, 1, 28, 28) (1 channels).\n",
      "  ' (' + str(x.shape[self.channel_axis]) + ' channels).')\n"
     ]
    }
   ],
   "source": [
    "# With data augmentation to prevent overfitting (accuracy 0.99286)\n",
    "\n",
    "datagen = ImageDataGenerator(\n",
    "        featurewise_center=False,  # set input mean to 0 over the dataset\n",
    "        samplewise_center=False,  # set each sample mean to 0\n",
    "        featurewise_std_normalization=False,  # divide inputs by std of the dataset\n",
    "        samplewise_std_normalization=False,  # divide each input by its std\n",
    "        zca_whitening=False,  # apply ZCA whitening\n",
    "        rotation_range=15,  # randomly rotate images in the range (degrees, 0 to 180)\n",
    "        zoom_range = 0.15, # Randomly zoom image \n",
    "        width_shift_range=0.15,  # randomly shift images horizontally (fraction of total width)\n",
    "        height_shift_range=0.15,  # randomly shift images vertically (fraction of total height)\n",
    "        horizontal_flip=False,  # randomly flip images\n",
    "        vertical_flip=False)  # randomly flip images\n",
    "\n",
    "\n",
    "datagen.fit(X_train)"
   ]
  },
  {
   "cell_type": "code",
   "execution_count": 9,
   "metadata": {
    "collapsed": false
   },
   "outputs": [
    {
     "name": "stdout",
     "output_type": "stream",
     "text": [
      "Epoch 1/100\n",
      "30s - loss: 0.2699 - acc: 0.9169 - val_loss: 0.1111 - val_acc: 0.9660\n",
      "Epoch 2/100\n",
      "29s - loss: 0.2880 - acc: 0.9109 - val_loss: 0.0844 - val_acc: 0.9757\n",
      "Epoch 3/100\n",
      "28s - loss: 0.2684 - acc: 0.9178 - val_loss: 0.0985 - val_acc: 0.9702\n",
      "Epoch 4/100\n",
      "30s - loss: 0.2384 - acc: 0.9287 - val_loss: 0.0788 - val_acc: 0.9762\n",
      "Epoch 5/100\n",
      "29s - loss: 0.2487 - acc: 0.9206 - val_loss: 0.0833 - val_acc: 0.9731\n",
      "Epoch 6/100\n",
      "30s - loss: 0.2331 - acc: 0.9319 - val_loss: 0.0630 - val_acc: 0.9793\n",
      "Epoch 7/100\n",
      "30s - loss: 0.2300 - acc: 0.9297 - val_loss: 0.0747 - val_acc: 0.9790\n",
      "Epoch 8/100\n",
      "30s - loss: 0.2008 - acc: 0.9375 - val_loss: 0.0600 - val_acc: 0.9824\n",
      "Epoch 9/100\n",
      "30s - loss: 0.1993 - acc: 0.9434 - val_loss: 0.0606 - val_acc: 0.9798\n",
      "Epoch 10/100\n",
      "31s - loss: 0.1709 - acc: 0.9472 - val_loss: 0.0701 - val_acc: 0.9793\n",
      "Epoch 11/100\n",
      "30s - loss: 0.1765 - acc: 0.9506 - val_loss: 0.0535 - val_acc: 0.9833\n",
      "Epoch 12/100\n",
      "31s - loss: 0.1782 - acc: 0.9466 - val_loss: 0.0542 - val_acc: 0.9831\n",
      "Epoch 13/100\n",
      "30s - loss: 0.1508 - acc: 0.9559 - val_loss: 0.0526 - val_acc: 0.9840\n",
      "Epoch 14/100\n",
      "31s - loss: 0.1474 - acc: 0.9578 - val_loss: 0.0489 - val_acc: 0.9836\n",
      "Epoch 15/100\n",
      "30s - loss: 0.1613 - acc: 0.9503 - val_loss: 0.0463 - val_acc: 0.9867\n",
      "Epoch 16/100\n",
      "31s - loss: 0.1314 - acc: 0.9634 - val_loss: 0.0487 - val_acc: 0.9857\n",
      "Epoch 17/100\n",
      "31s - loss: 0.1492 - acc: 0.9562 - val_loss: 0.0491 - val_acc: 0.9855\n",
      "Epoch 18/100\n",
      "30s - loss: 0.1383 - acc: 0.9575 - val_loss: 0.0483 - val_acc: 0.9874\n",
      "Epoch 19/100\n",
      "30s - loss: 0.1447 - acc: 0.9553 - val_loss: 0.0485 - val_acc: 0.9862\n",
      "Epoch 20/100\n",
      "29s - loss: 0.1393 - acc: 0.9553 - val_loss: 0.0448 - val_acc: 0.9871\n",
      "Epoch 21/100\n",
      "30s - loss: 0.1329 - acc: 0.9616 - val_loss: 0.0464 - val_acc: 0.9857\n",
      "Epoch 22/100\n",
      "29s - loss: 0.1444 - acc: 0.9559 - val_loss: 0.0440 - val_acc: 0.9869\n",
      "Epoch 23/100\n",
      "30s - loss: 0.1404 - acc: 0.9587 - val_loss: 0.0424 - val_acc: 0.9867\n",
      "Epoch 24/100\n",
      "30s - loss: 0.1187 - acc: 0.9653 - val_loss: 0.0416 - val_acc: 0.9881\n",
      "Epoch 25/100\n",
      "30s - loss: 0.1297 - acc: 0.9578 - val_loss: 0.0415 - val_acc: 0.9874\n",
      "Epoch 26/100\n",
      "29s - loss: 0.1270 - acc: 0.9609 - val_loss: 0.0419 - val_acc: 0.9881\n",
      "Epoch 27/100\n",
      "29s - loss: 0.1328 - acc: 0.9619 - val_loss: 0.0449 - val_acc: 0.9869\n",
      "Epoch 28/100\n",
      "29s - loss: 0.1413 - acc: 0.9569 - val_loss: 0.0445 - val_acc: 0.9869\n",
      "Epoch 29/100\n",
      "31s - loss: 0.1204 - acc: 0.9659 - val_loss: 0.0398 - val_acc: 0.9867\n",
      "Epoch 30/100\n",
      "30s - loss: 0.1280 - acc: 0.9609 - val_loss: 0.0491 - val_acc: 0.9843\n",
      "Epoch 31/100\n",
      "30s - loss: 0.1154 - acc: 0.9688 - val_loss: 0.0364 - val_acc: 0.9888\n",
      "Epoch 32/100\n",
      "29s - loss: 0.1200 - acc: 0.9625 - val_loss: 0.0365 - val_acc: 0.9898\n",
      "Epoch 33/100\n",
      "30s - loss: 0.1148 - acc: 0.9678 - val_loss: 0.0363 - val_acc: 0.9895\n",
      "Epoch 34/100\n",
      "31s - loss: 0.1059 - acc: 0.9703 - val_loss: 0.0338 - val_acc: 0.9910\n",
      "Epoch 35/100\n",
      "30s - loss: 0.1007 - acc: 0.9706 - val_loss: 0.0330 - val_acc: 0.9907\n",
      "Epoch 36/100\n",
      "30s - loss: 0.1066 - acc: 0.9666 - val_loss: 0.0348 - val_acc: 0.9905\n",
      "Epoch 37/100\n",
      "30s - loss: 0.1078 - acc: 0.9691 - val_loss: 0.0337 - val_acc: 0.9900\n",
      "Epoch 38/100\n",
      "29s - loss: 0.1048 - acc: 0.9697 - val_loss: 0.0335 - val_acc: 0.9898\n",
      "Epoch 39/100\n",
      "29s - loss: 0.1033 - acc: 0.9684 - val_loss: 0.0326 - val_acc: 0.9898\n",
      "Epoch 40/100\n",
      "29s - loss: 0.1097 - acc: 0.9684 - val_loss: 0.0312 - val_acc: 0.9914\n",
      "Epoch 41/100\n",
      "30s - loss: 0.0983 - acc: 0.9678 - val_loss: 0.0322 - val_acc: 0.9910\n",
      "Epoch 42/100\n",
      "29s - loss: 0.1109 - acc: 0.9681 - val_loss: 0.0336 - val_acc: 0.9898\n",
      "Epoch 43/100\n",
      "30s - loss: 0.0903 - acc: 0.9706 - val_loss: 0.0329 - val_acc: 0.9902\n",
      "Epoch 44/100\n",
      "29s - loss: 0.0921 - acc: 0.9703 - val_loss: 0.0341 - val_acc: 0.9888\n",
      "Epoch 45/100\n",
      "29s - loss: 0.0860 - acc: 0.9738 - val_loss: 0.0328 - val_acc: 0.9905\n",
      "Epoch 46/100\n",
      "30s - loss: 0.1005 - acc: 0.9697 - val_loss: 0.0287 - val_acc: 0.9910\n",
      "Epoch 47/100\n",
      "29s - loss: 0.1078 - acc: 0.9672 - val_loss: 0.0352 - val_acc: 0.9902\n",
      "Epoch 48/100\n",
      "30s - loss: 0.0967 - acc: 0.9660 - val_loss: 0.0313 - val_acc: 0.9905\n",
      "Epoch 49/100\n",
      "30s - loss: 0.0977 - acc: 0.9706 - val_loss: 0.0334 - val_acc: 0.9888\n",
      "Epoch 50/100\n",
      "30s - loss: 0.0769 - acc: 0.9759 - val_loss: 0.0352 - val_acc: 0.9888\n",
      "Epoch 51/100\n",
      "29s - loss: 0.0807 - acc: 0.9750 - val_loss: 0.0324 - val_acc: 0.9905\n",
      "Epoch 52/100\n",
      "31s - loss: 0.0853 - acc: 0.9762 - val_loss: 0.0308 - val_acc: 0.9902\n",
      "Epoch 53/100\n",
      "29s - loss: 0.0893 - acc: 0.9722 - val_loss: 0.0324 - val_acc: 0.9893\n",
      "Epoch 54/100\n",
      "29s - loss: 0.0904 - acc: 0.9725 - val_loss: 0.0307 - val_acc: 0.9912\n",
      "Epoch 55/100\n",
      "30s - loss: 0.1039 - acc: 0.9650 - val_loss: 0.0308 - val_acc: 0.9917\n",
      "Epoch 56/100\n",
      "29s - loss: 0.1011 - acc: 0.9659 - val_loss: 0.0304 - val_acc: 0.9917\n",
      "Epoch 57/100\n",
      "29s - loss: 0.0857 - acc: 0.9759 - val_loss: 0.0332 - val_acc: 0.9905\n",
      "Epoch 58/100\n",
      "30s - loss: 0.1023 - acc: 0.9716 - val_loss: 0.0345 - val_acc: 0.9890\n",
      "Epoch 59/100\n",
      "30s - loss: 0.1104 - acc: 0.9675 - val_loss: 0.0322 - val_acc: 0.9898\n",
      "Epoch 60/100\n",
      "29s - loss: 0.0814 - acc: 0.9747 - val_loss: 0.0312 - val_acc: 0.9910\n",
      "Epoch 61/100\n",
      "30s - loss: 0.0972 - acc: 0.9709 - val_loss: 0.0297 - val_acc: 0.9912\n",
      "Epoch 62/100\n",
      "29s - loss: 0.0879 - acc: 0.9747 - val_loss: 0.0294 - val_acc: 0.9910\n",
      "Epoch 63/100\n",
      "29s - loss: 0.0906 - acc: 0.9728 - val_loss: 0.0294 - val_acc: 0.9917\n",
      "Epoch 64/100\n",
      "29s - loss: 0.0842 - acc: 0.9728 - val_loss: 0.0291 - val_acc: 0.9917\n",
      "Epoch 65/100\n",
      "29s - loss: 0.0782 - acc: 0.9766 - val_loss: 0.0289 - val_acc: 0.9921\n",
      "Epoch 66/100\n",
      "29s - loss: 0.0765 - acc: 0.9750 - val_loss: 0.0286 - val_acc: 0.9914\n",
      "Epoch 67/100\n",
      "29s - loss: 0.0727 - acc: 0.9756 - val_loss: 0.0289 - val_acc: 0.9929\n",
      "Epoch 68/100\n",
      "29s - loss: 0.0833 - acc: 0.9750 - val_loss: 0.0282 - val_acc: 0.9926\n",
      "Epoch 69/100\n",
      "29s - loss: 0.0875 - acc: 0.9738 - val_loss: 0.0281 - val_acc: 0.9917\n",
      "Epoch 70/100\n",
      "29s - loss: 0.0750 - acc: 0.9756 - val_loss: 0.0293 - val_acc: 0.9914\n",
      "Epoch 71/100\n",
      "29s - loss: 0.0727 - acc: 0.9759 - val_loss: 0.0282 - val_acc: 0.9921\n",
      "Epoch 72/100\n",
      "29s - loss: 0.0646 - acc: 0.9753 - val_loss: 0.0282 - val_acc: 0.9912\n",
      "Epoch 73/100\n",
      "29s - loss: 0.0732 - acc: 0.9775 - val_loss: 0.0279 - val_acc: 0.9917\n",
      "Epoch 74/100\n",
      "29s - loss: 0.0901 - acc: 0.9784 - val_loss: 0.0278 - val_acc: 0.9914\n",
      "Epoch 75/100\n",
      "29s - loss: 0.0824 - acc: 0.9756 - val_loss: 0.0274 - val_acc: 0.9924\n",
      "Epoch 76/100\n",
      "29s - loss: 0.0769 - acc: 0.9781 - val_loss: 0.0280 - val_acc: 0.9919\n",
      "Epoch 77/100\n",
      "29s - loss: 0.0735 - acc: 0.9762 - val_loss: 0.0272 - val_acc: 0.9926\n",
      "Epoch 78/100\n",
      "29s - loss: 0.0631 - acc: 0.9813 - val_loss: 0.0272 - val_acc: 0.9924\n",
      "Epoch 79/100\n",
      "30s - loss: 0.0755 - acc: 0.9797 - val_loss: 0.0266 - val_acc: 0.9931\n",
      "Epoch 80/100\n",
      "31s - loss: 0.0863 - acc: 0.9744 - val_loss: 0.0268 - val_acc: 0.9931\n",
      "Epoch 81/100\n",
      "30s - loss: 0.0774 - acc: 0.9769 - val_loss: 0.0272 - val_acc: 0.9917\n",
      "Epoch 82/100\n",
      "30s - loss: 0.0810 - acc: 0.9744 - val_loss: 0.0274 - val_acc: 0.9919\n",
      "Epoch 83/100\n",
      "31s - loss: 0.0736 - acc: 0.9759 - val_loss: 0.0283 - val_acc: 0.9924\n",
      "Epoch 84/100\n",
      "29s - loss: 0.0714 - acc: 0.9759 - val_loss: 0.0278 - val_acc: 0.9929\n",
      "Epoch 85/100\n",
      "29s - loss: 0.0702 - acc: 0.9822 - val_loss: 0.0272 - val_acc: 0.9924\n",
      "Epoch 86/100\n",
      "29s - loss: 0.0808 - acc: 0.9756 - val_loss: 0.0266 - val_acc: 0.9926\n",
      "Epoch 87/100\n",
      "29s - loss: 0.0815 - acc: 0.9728 - val_loss: 0.0266 - val_acc: 0.9924\n",
      "Epoch 88/100\n",
      "29s - loss: 0.0779 - acc: 0.9756 - val_loss: 0.0254 - val_acc: 0.9926\n",
      "Epoch 89/100\n",
      "29s - loss: 0.0815 - acc: 0.9784 - val_loss: 0.0256 - val_acc: 0.9924\n",
      "Epoch 90/100\n",
      "29s - loss: 0.0738 - acc: 0.9756 - val_loss: 0.0257 - val_acc: 0.9924\n",
      "Epoch 91/100\n",
      "29s - loss: 0.0629 - acc: 0.9838 - val_loss: 0.0265 - val_acc: 0.9924\n",
      "Epoch 92/100\n",
      "29s - loss: 0.0693 - acc: 0.9788 - val_loss: 0.0260 - val_acc: 0.9921\n",
      "Epoch 93/100\n",
      "29s - loss: 0.0824 - acc: 0.9756 - val_loss: 0.0260 - val_acc: 0.9924\n",
      "Epoch 94/100\n",
      "29s - loss: 0.0815 - acc: 0.9762 - val_loss: 0.0260 - val_acc: 0.9926\n",
      "Epoch 95/100\n",
      "31s - loss: 0.0776 - acc: 0.9767 - val_loss: 0.0267 - val_acc: 0.9919\n",
      "Epoch 96/100\n",
      "31s - loss: 0.0619 - acc: 0.9794 - val_loss: 0.0278 - val_acc: 0.9921\n",
      "Epoch 97/100\n",
      "31s - loss: 0.0577 - acc: 0.9825 - val_loss: 0.0264 - val_acc: 0.9924\n",
      "Epoch 98/100\n",
      "29s - loss: 0.0889 - acc: 0.9738 - val_loss: 0.0265 - val_acc: 0.9929\n",
      "Epoch 99/100\n",
      "30s - loss: 0.0732 - acc: 0.9753 - val_loss: 0.0261 - val_acc: 0.9929\n",
      "Epoch 100/100\n",
      "30s - loss: 0.0892 - acc: 0.9753 - val_loss: 0.0255 - val_acc: 0.9929\n"
     ]
    }
   ],
   "source": [
    "from keras.callbacks import CSVLogger, ModelCheckpoint, LearningRateScheduler\n",
    "from keras.models import load_model\n",
    "\n",
    "def lr_schedule(epoch):\n",
    "    if epoch < 10:\n",
    "        return 0.005\n",
    "    elif epoch < 20:\n",
    "        return 0.001\n",
    "    elif epoch < 40:\n",
    "        return 0.0005\n",
    "    elif epoch < 60:\n",
    "        return 0.0001\n",
    "    else:\n",
    "        return 0.00001\n",
    "\n",
    "lr_s = LearningRateScheduler(lr_schedule)\n",
    "\n",
    "best_model_path = 'best_m.h5'\n",
    "best_model = ModelCheckpoint(filepath=best_model_path, monitor='val_acc', save_best_only=True)\n",
    "epochs = 100\n",
    "steps_per_epoch = 50\n",
    "batch_size = 64\n",
    "model.fit_generator(datagen.flow(X_train,Y_train, batch_size=batch_size),\n",
    "                              epochs = epochs, validation_data = (X_val,Y_val),\n",
    "                              verbose = 2, steps_per_epoch=steps_per_epoch,\n",
    "                              callbacks=[best_model, lr_s])\n",
    "model = load_model(best_model_path)"
   ]
  },
  {
   "cell_type": "code",
   "execution_count": 10,
   "metadata": {
    "collapsed": true
   },
   "outputs": [],
   "source": [
    "# predict results\n",
    "results = model.predict(test)\n",
    "\n",
    "# select the indix with the maximum probability\n",
    "results = np.argmax(results,axis = 1)\n",
    "\n",
    "results = pd.Series(results,name=\"Label\")"
   ]
  },
  {
   "cell_type": "code",
   "execution_count": 11,
   "metadata": {
    "collapsed": false
   },
   "outputs": [
    {
     "name": "stdout",
     "output_type": "stream",
     "text": [
      "save done\n"
     ]
    }
   ],
   "source": [
    "import arrow\n",
    "ts = str(arrow.now())[:-10].replace(':','_').replace('.',\"_\")\n",
    "\n",
    "submission = pd.concat([pd.Series(range(1,28001),name = \"ImageId\"),results],axis = 1)\n",
    "\n",
    "submission.to_csv(\"play_cnn_mnist_datagen_{}.csv\".format(ts),index=False)\n",
    "\n",
    "print('save done')"
   ]
  }
 ],
 "metadata": {
  "kernelspec": {
   "display_name": "Python 3",
   "language": "python",
   "name": "python3"
  },
  "language_info": {
   "codemirror_mode": {
    "name": "ipython",
    "version": 3
   },
   "file_extension": ".py",
   "mimetype": "text/x-python",
   "name": "python",
   "nbconvert_exporter": "python",
   "pygments_lexer": "ipython3",
   "version": "3.5.2"
  }
 },
 "nbformat": 4,
 "nbformat_minor": 0
}
