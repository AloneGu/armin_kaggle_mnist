{
 "cells": [
  {
   "cell_type": "code",
   "execution_count": 1,
   "metadata": {
    "collapsed": false
   },
   "outputs": [
    {
     "name": "stderr",
     "output_type": "stream",
     "text": [
      "Using Theano backend.\n"
     ]
    }
   ],
   "source": [
    "import pandas as pd\n",
    "import numpy as np\n",
    "import matplotlib.pyplot as plt\n",
    "import matplotlib.image as mpimg\n",
    "\n",
    "\n",
    "from sklearn.model_selection import train_test_split\n",
    "from sklearn.metrics import confusion_matrix\n",
    "import itertools\n",
    "\n",
    "from keras.utils.np_utils import to_categorical # convert to one-hot-encoding\n",
    "from keras.models import Sequential\n",
    "from keras.layers import Dense, Dropout, Flatten, Conv2D, MaxPool2D\n",
    "from keras.optimizers import RMSprop, Adam\n",
    "from keras.preprocessing.image import ImageDataGenerator\n",
    "from keras.callbacks import ReduceLROnPlateau"
   ]
  },
  {
   "cell_type": "code",
   "execution_count": 2,
   "metadata": {
    "collapsed": true
   },
   "outputs": [],
   "source": [
    "train = pd.read_csv(\"../input/train.csv\")\n",
    "test = pd.read_csv(\"../input/test.csv\")"
   ]
  },
  {
   "cell_type": "code",
   "execution_count": 3,
   "metadata": {
    "collapsed": true
   },
   "outputs": [],
   "source": [
    "Y_train = train[\"label\"]\n",
    "\n",
    "# Drop 'label' column\n",
    "X_train = train.drop(labels = [\"label\"],axis = 1) \n",
    "\n",
    "# free some space\n",
    "del train "
   ]
  },
  {
   "cell_type": "code",
   "execution_count": 4,
   "metadata": {
    "collapsed": false
   },
   "outputs": [],
   "source": [
    "# Normalize the data\n",
    "X_train = X_train / 255.0\n",
    "test = test / 255.0\n",
    "# Reshape image in 3 dimensions (height = 28px, width = 28px , canal = 1)\n",
    "X_train = X_train.values.reshape(-1,1,28,28)\n",
    "test = test.values.reshape(-1,1,28,28)"
   ]
  },
  {
   "cell_type": "code",
   "execution_count": 5,
   "metadata": {
    "collapsed": false
   },
   "outputs": [
    {
     "name": "stdout",
     "output_type": "stream",
     "text": [
      "(39900, 1, 28, 28) (39900, 10)\n"
     ]
    }
   ],
   "source": [
    "Y_train = to_categorical(Y_train, num_classes = 10)\n",
    "\n",
    "# Split the train and the validation set for the fitting\n",
    "X_train, X_val, Y_train, Y_val = train_test_split(X_train, Y_train, test_size = 0.05, random_state=2333)\n",
    "print(X_train.shape, Y_train.shape)"
   ]
  },
  {
   "cell_type": "code",
   "execution_count": 6,
   "metadata": {
    "collapsed": false
   },
   "outputs": [
    {
     "name": "stdout",
     "output_type": "stream",
     "text": [
      "compile done\n"
     ]
    }
   ],
   "source": [
    "model = Sequential()\n",
    "\n",
    "model.add(Conv2D(filters = 32, kernel_size = (3,3),padding = 'Same', \n",
    "                 activation ='relu', input_shape = (1,28,28)))\n",
    "model.add(Conv2D(filters = 32, kernel_size = (3,3),padding = 'Same', \n",
    "                 activation ='relu'))\n",
    "model.add(MaxPool2D(pool_size=(2,2)))\n",
    "model.add(Dropout(0.5))\n",
    "\n",
    "\n",
    "model.add(Conv2D(filters = 32, kernel_size = (3,3),padding = 'Same', \n",
    "                 activation ='relu'))\n",
    "model.add(Conv2D(filters = 32, kernel_size = (3,3),padding = 'Same', \n",
    "                 activation ='relu'))\n",
    "model.add(MaxPool2D(pool_size=(2,2), strides=(2,2)))\n",
    "model.add(Dropout(0.5))\n",
    "\n",
    "\n",
    "model.add(Flatten())\n",
    "model.add(Dense(256, activation = \"relu\"))\n",
    "model.add(Dropout(0.5))\n",
    "model.add(Dense(10, activation = \"softmax\"))\n",
    "# Compile the model\n",
    "\n",
    "opt = Adam(lr=0.001)\n",
    "model.compile(optimizer = opt , loss = \"categorical_crossentropy\", metrics=[\"accuracy\"])\n",
    "print(\"compile done\")"
   ]
  },
  {
   "cell_type": "code",
   "execution_count": 7,
   "metadata": {
    "collapsed": false
   },
   "outputs": [
    {
     "name": "stderr",
     "output_type": "stream",
     "text": [
      "/home/jac/.local/lib/python3.5/site-packages/keras/preprocessing/image.py:653: UserWarning: Expected input to be images (as Numpy array) following the data format convention \"channels_first\" (channels on axis 1), i.e. expected either 1, 3 or 4 channels on axis 1. However, it was passed an array with shape (39900, 1, 28, 28) (1 channels).\n",
      "  ' (' + str(x.shape[self.channel_axis]) + ' channels).')\n"
     ]
    }
   ],
   "source": [
    "# With data augmentation to prevent overfitting (accuracy 0.99286)\n",
    "\n",
    "datagen = ImageDataGenerator(\n",
    "        featurewise_center=False,  # set input mean to 0 over the dataset\n",
    "        samplewise_center=False,  # set each sample mean to 0\n",
    "        featurewise_std_normalization=False,  # divide inputs by std of the dataset\n",
    "        samplewise_std_normalization=False,  # divide each input by its std\n",
    "        zca_whitening=False,  # apply ZCA whitening\n",
    "        rotation_range=15,  # randomly rotate images in the range (degrees, 0 to 180)\n",
    "        zoom_range = 0.05, # Randomly zoom image \n",
    "        width_shift_range=0.05,  # randomly shift images horizontally (fraction of total width)\n",
    "        height_shift_range=0.05,  # randomly shift images vertically (fraction of total height)\n",
    "        horizontal_flip=False,  # randomly flip images\n",
    "        vertical_flip=False)  # randomly flip images\n",
    "\n",
    "\n",
    "datagen.fit(X_train)"
   ]
  },
  {
   "cell_type": "code",
   "execution_count": 8,
   "metadata": {
    "collapsed": false
   },
   "outputs": [
    {
     "name": "stdout",
     "output_type": "stream",
     "text": [
      "Epoch 1/100\n",
      "25s - loss: 1.8113 - acc: 0.3553 - val_loss: 0.8191 - val_acc: 0.7810\n",
      "Epoch 2/100\n",
      "26s - loss: 0.9103 - acc: 0.7044 - val_loss: 0.3159 - val_acc: 0.9052\n",
      "Epoch 3/100\n",
      "27s - loss: 0.5929 - acc: 0.8103 - val_loss: 0.1825 - val_acc: 0.9495\n",
      "Epoch 4/100\n",
      "25s - loss: 0.4479 - acc: 0.8469 - val_loss: 0.1354 - val_acc: 0.9590\n",
      "Epoch 5/100\n",
      "25s - loss: 0.3803 - acc: 0.8787 - val_loss: 0.1132 - val_acc: 0.9638\n",
      "Epoch 6/100\n",
      "25s - loss: 0.3734 - acc: 0.8812 - val_loss: 0.1020 - val_acc: 0.9719\n",
      "Epoch 7/100\n",
      "26s - loss: 0.3052 - acc: 0.9050 - val_loss: 0.1042 - val_acc: 0.9676\n",
      "Epoch 8/100\n",
      "27s - loss: 0.2944 - acc: 0.9056 - val_loss: 0.0838 - val_acc: 0.9724\n",
      "Epoch 9/100\n",
      "31s - loss: 0.3108 - acc: 0.9087 - val_loss: 0.0816 - val_acc: 0.9767\n",
      "Epoch 10/100\n",
      "27s - loss: 0.2569 - acc: 0.9231 - val_loss: 0.0685 - val_acc: 0.9795\n",
      "Epoch 11/100\n",
      "27s - loss: 0.2595 - acc: 0.9216 - val_loss: 0.0737 - val_acc: 0.9776\n",
      "Epoch 12/100\n",
      "26s - loss: 0.2302 - acc: 0.9269 - val_loss: 0.0671 - val_acc: 0.9800\n",
      "Epoch 13/100\n",
      "25s - loss: 0.2485 - acc: 0.9250 - val_loss: 0.0593 - val_acc: 0.9829\n",
      "Epoch 14/100\n",
      "26s - loss: 0.2376 - acc: 0.9281 - val_loss: 0.0614 - val_acc: 0.9776\n",
      "Epoch 15/100\n",
      "25s - loss: 0.2131 - acc: 0.9331 - val_loss: 0.0789 - val_acc: 0.9743\n",
      "Epoch 16/100\n",
      "27s - loss: 0.2173 - acc: 0.9325 - val_loss: 0.0576 - val_acc: 0.9814\n",
      "Epoch 17/100\n",
      "25s - loss: 0.1915 - acc: 0.9425 - val_loss: 0.0522 - val_acc: 0.9848\n",
      "Epoch 18/100\n",
      "27s - loss: 0.1901 - acc: 0.9441 - val_loss: 0.0544 - val_acc: 0.9824\n",
      "Epoch 19/100\n",
      "26s - loss: 0.1815 - acc: 0.9428 - val_loss: 0.0460 - val_acc: 0.9852\n",
      "Epoch 20/100\n",
      "25s - loss: 0.1735 - acc: 0.9412 - val_loss: 0.0486 - val_acc: 0.9848\n",
      "Epoch 21/100\n",
      "26s - loss: 0.1915 - acc: 0.9397 - val_loss: 0.0569 - val_acc: 0.9819\n",
      "Epoch 22/100\n",
      "27s - loss: 0.1798 - acc: 0.9444 - val_loss: 0.0432 - val_acc: 0.9876\n",
      "Epoch 23/100\n",
      "26s - loss: 0.1641 - acc: 0.9506 - val_loss: 0.0530 - val_acc: 0.9833\n",
      "Epoch 24/100\n",
      "26s - loss: 0.1687 - acc: 0.9513 - val_loss: 0.0448 - val_acc: 0.9871\n",
      "Epoch 25/100\n",
      "26s - loss: 0.1566 - acc: 0.9537 - val_loss: 0.0423 - val_acc: 0.9862\n",
      "Epoch 26/100\n",
      "26s - loss: 0.1569 - acc: 0.9534 - val_loss: 0.0440 - val_acc: 0.9848\n",
      "Epoch 27/100\n",
      "26s - loss: 0.1659 - acc: 0.9487 - val_loss: 0.0404 - val_acc: 0.9876\n",
      "Epoch 28/100\n",
      "26s - loss: 0.1625 - acc: 0.9500 - val_loss: 0.0444 - val_acc: 0.9857\n",
      "Epoch 29/100\n",
      "27s - loss: 0.1389 - acc: 0.9547 - val_loss: 0.0360 - val_acc: 0.9890\n",
      "Epoch 30/100\n",
      "26s - loss: 0.1578 - acc: 0.9509 - val_loss: 0.0371 - val_acc: 0.9886\n",
      "Epoch 31/100\n",
      "25s - loss: 0.1424 - acc: 0.9553 - val_loss: 0.0414 - val_acc: 0.9852\n",
      "Epoch 32/100\n",
      "25s - loss: 0.1418 - acc: 0.9591 - val_loss: 0.0542 - val_acc: 0.9819\n",
      "Epoch 33/100\n",
      "25s - loss: 0.1557 - acc: 0.9484 - val_loss: 0.0440 - val_acc: 0.9881\n",
      "Epoch 34/100\n",
      "25s - loss: 0.1428 - acc: 0.9522 - val_loss: 0.0506 - val_acc: 0.9833\n",
      "Epoch 35/100\n",
      "26s - loss: 0.1369 - acc: 0.9584 - val_loss: 0.0462 - val_acc: 0.9852\n",
      "Epoch 36/100\n",
      "25s - loss: 0.1415 - acc: 0.9559 - val_loss: 0.0389 - val_acc: 0.9876\n",
      "Epoch 37/100\n",
      "26s - loss: 0.1278 - acc: 0.9616 - val_loss: 0.0364 - val_acc: 0.9890\n",
      "Epoch 38/100\n",
      "25s - loss: 0.1406 - acc: 0.9591 - val_loss: 0.0353 - val_acc: 0.9886\n",
      "Epoch 39/100\n",
      "27s - loss: 0.1311 - acc: 0.9634 - val_loss: 0.0439 - val_acc: 0.9852\n",
      "Epoch 40/100\n",
      "26s - loss: 0.1254 - acc: 0.9606 - val_loss: 0.0326 - val_acc: 0.9895\n",
      "Epoch 41/100\n",
      "26s - loss: 0.1271 - acc: 0.9594 - val_loss: 0.0339 - val_acc: 0.9895\n",
      "Epoch 42/100\n",
      "25s - loss: 0.1384 - acc: 0.9581 - val_loss: 0.0354 - val_acc: 0.9890\n",
      "Epoch 43/100\n",
      "26s - loss: 0.1171 - acc: 0.9628 - val_loss: 0.0419 - val_acc: 0.9890\n",
      "Epoch 44/100\n",
      "25s - loss: 0.1429 - acc: 0.9544 - val_loss: 0.0314 - val_acc: 0.9900\n",
      "Epoch 45/100\n",
      "25s - loss: 0.1203 - acc: 0.9600 - val_loss: 0.0386 - val_acc: 0.9886\n",
      "Epoch 46/100\n",
      "25s - loss: 0.1353 - acc: 0.9566 - val_loss: 0.0279 - val_acc: 0.9924\n",
      "Epoch 47/100\n",
      "28s - loss: 0.1334 - acc: 0.9566 - val_loss: 0.0382 - val_acc: 0.9876\n",
      "Epoch 48/100\n",
      "26s - loss: 0.1219 - acc: 0.9628 - val_loss: 0.0331 - val_acc: 0.9890\n",
      "Epoch 49/100\n",
      "26s - loss: 0.1200 - acc: 0.9653 - val_loss: 0.0379 - val_acc: 0.9876\n",
      "Epoch 50/100\n",
      "27s - loss: 0.1482 - acc: 0.9571 - val_loss: 0.0325 - val_acc: 0.9910\n",
      "Epoch 51/100\n",
      "27s - loss: 0.1156 - acc: 0.9669 - val_loss: 0.0330 - val_acc: 0.9900\n",
      "Epoch 52/100\n",
      "28s - loss: 0.1171 - acc: 0.9644 - val_loss: 0.0338 - val_acc: 0.9881\n",
      "Epoch 53/100\n",
      "26s - loss: 0.1140 - acc: 0.9659 - val_loss: 0.0323 - val_acc: 0.9900\n",
      "Epoch 54/100\n",
      "25s - loss: 0.1113 - acc: 0.9700 - val_loss: 0.0281 - val_acc: 0.9914\n",
      "Epoch 55/100\n",
      "26s - loss: 0.1107 - acc: 0.9659 - val_loss: 0.0296 - val_acc: 0.9914\n",
      "Epoch 56/100\n",
      "27s - loss: 0.0911 - acc: 0.9744 - val_loss: 0.0331 - val_acc: 0.9900\n",
      "Epoch 57/100\n",
      "27s - loss: 0.1067 - acc: 0.9694 - val_loss: 0.0347 - val_acc: 0.9895\n",
      "Epoch 58/100\n",
      "27s - loss: 0.1121 - acc: 0.9691 - val_loss: 0.0294 - val_acc: 0.9886\n",
      "Epoch 59/100\n",
      "28s - loss: 0.1083 - acc: 0.9675 - val_loss: 0.0263 - val_acc: 0.9914\n",
      "Epoch 60/100\n",
      "27s - loss: 0.1205 - acc: 0.9631 - val_loss: 0.0312 - val_acc: 0.9900\n",
      "Epoch 61/100\n",
      "27s - loss: 0.1287 - acc: 0.9587 - val_loss: 0.0264 - val_acc: 0.9905\n",
      "Epoch 62/100\n",
      "28s - loss: 0.1148 - acc: 0.9656 - val_loss: 0.0274 - val_acc: 0.9914\n",
      "Epoch 63/100\n",
      "27s - loss: 0.1008 - acc: 0.9696 - val_loss: 0.0303 - val_acc: 0.9895\n",
      "Epoch 64/100\n",
      "27s - loss: 0.1205 - acc: 0.9616 - val_loss: 0.0288 - val_acc: 0.9905\n",
      "Epoch 65/100\n",
      "27s - loss: 0.1314 - acc: 0.9616 - val_loss: 0.0409 - val_acc: 0.9876\n",
      "Epoch 66/100\n",
      "28s - loss: 0.0993 - acc: 0.9712 - val_loss: 0.0282 - val_acc: 0.9914\n",
      "Epoch 67/100\n",
      "29s - loss: 0.1194 - acc: 0.9631 - val_loss: 0.0274 - val_acc: 0.9924\n",
      "Epoch 68/100\n",
      "26s - loss: 0.1091 - acc: 0.9684 - val_loss: 0.0267 - val_acc: 0.9905\n",
      "Epoch 69/100\n",
      "27s - loss: 0.0934 - acc: 0.9725 - val_loss: 0.0288 - val_acc: 0.9914\n",
      "Epoch 70/100\n",
      "25s - loss: 0.0939 - acc: 0.9700 - val_loss: 0.0275 - val_acc: 0.9919\n",
      "Epoch 71/100\n",
      "25s - loss: 0.0906 - acc: 0.9706 - val_loss: 0.0313 - val_acc: 0.9914\n",
      "Epoch 72/100\n",
      "25s - loss: 0.0937 - acc: 0.9691 - val_loss: 0.0378 - val_acc: 0.9914\n",
      "Epoch 73/100\n",
      "25s - loss: 0.1094 - acc: 0.9663 - val_loss: 0.0320 - val_acc: 0.9886\n",
      "Epoch 74/100\n",
      "25s - loss: 0.0974 - acc: 0.9728 - val_loss: 0.0303 - val_acc: 0.9900\n",
      "Epoch 75/100\n",
      "25s - loss: 0.1057 - acc: 0.9716 - val_loss: 0.0296 - val_acc: 0.9910\n",
      "Epoch 76/100\n",
      "26s - loss: 0.0871 - acc: 0.9712 - val_loss: 0.0291 - val_acc: 0.9914\n",
      "Epoch 77/100\n",
      "25s - loss: 0.1059 - acc: 0.9684 - val_loss: 0.0325 - val_acc: 0.9910\n",
      "Epoch 78/100\n",
      "25s - loss: 0.0948 - acc: 0.9688 - val_loss: 0.0285 - val_acc: 0.9910\n",
      "Epoch 79/100\n",
      "25s - loss: 0.0955 - acc: 0.9709 - val_loss: 0.0422 - val_acc: 0.9871\n",
      "Epoch 80/100\n",
      "25s - loss: 0.1088 - acc: 0.9672 - val_loss: 0.0288 - val_acc: 0.9890\n",
      "Epoch 81/100\n",
      "26s - loss: 0.0803 - acc: 0.9744 - val_loss: 0.0293 - val_acc: 0.9910\n",
      "Epoch 82/100\n",
      "26s - loss: 0.1012 - acc: 0.9709 - val_loss: 0.0279 - val_acc: 0.9900\n",
      "Epoch 83/100\n",
      "27s - loss: 0.1042 - acc: 0.9697 - val_loss: 0.0214 - val_acc: 0.9933\n",
      "Epoch 84/100\n",
      "27s - loss: 0.0775 - acc: 0.9750 - val_loss: 0.0291 - val_acc: 0.9900\n",
      "Epoch 85/100\n",
      "26s - loss: 0.0946 - acc: 0.9728 - val_loss: 0.0262 - val_acc: 0.9938\n",
      "Epoch 86/100\n",
      "26s - loss: 0.0883 - acc: 0.9725 - val_loss: 0.0257 - val_acc: 0.9929\n",
      "Epoch 87/100\n",
      "26s - loss: 0.1060 - acc: 0.9694 - val_loss: 0.0253 - val_acc: 0.9924\n",
      "Epoch 88/100\n",
      "26s - loss: 0.0985 - acc: 0.9724 - val_loss: 0.0247 - val_acc: 0.9933\n",
      "Epoch 89/100\n",
      "26s - loss: 0.0855 - acc: 0.9725 - val_loss: 0.0297 - val_acc: 0.9919\n",
      "Epoch 90/100\n",
      "26s - loss: 0.0954 - acc: 0.9681 - val_loss: 0.0229 - val_acc: 0.9910\n",
      "Epoch 91/100\n",
      "26s - loss: 0.0862 - acc: 0.9747 - val_loss: 0.0258 - val_acc: 0.9914\n",
      "Epoch 92/100\n",
      "26s - loss: 0.0988 - acc: 0.9712 - val_loss: 0.0271 - val_acc: 0.9910\n",
      "Epoch 93/100\n",
      "26s - loss: 0.0902 - acc: 0.9703 - val_loss: 0.0295 - val_acc: 0.9919\n",
      "Epoch 94/100\n",
      "26s - loss: 0.0919 - acc: 0.9747 - val_loss: 0.0270 - val_acc: 0.9905\n",
      "Epoch 95/100\n",
      "26s - loss: 0.1157 - acc: 0.9681 - val_loss: 0.0270 - val_acc: 0.9914\n",
      "Epoch 96/100\n",
      "26s - loss: 0.0867 - acc: 0.9769 - val_loss: 0.0209 - val_acc: 0.9929\n",
      "Epoch 97/100\n",
      "25s - loss: 0.0944 - acc: 0.9706 - val_loss: 0.0205 - val_acc: 0.9948\n",
      "Epoch 98/100\n",
      "26s - loss: 0.1050 - acc: 0.9675 - val_loss: 0.0232 - val_acc: 0.9929\n",
      "Epoch 99/100\n",
      "25s - loss: 0.0797 - acc: 0.9734 - val_loss: 0.0189 - val_acc: 0.9943\n",
      "Epoch 100/100\n",
      "26s - loss: 0.1042 - acc: 0.9720 - val_loss: 0.0252 - val_acc: 0.9933\n"
     ]
    }
   ],
   "source": [
    "from keras.callbacks import CSVLogger, ModelCheckpoint\n",
    "from keras.models import load_model\n",
    "best_model_path = 'best_m.h5'\n",
    "best_model = ModelCheckpoint(filepath=best_model_path, monitor='val_loss', save_best_only=True)\n",
    "epochs = 100\n",
    "steps_per_epoch = 50\n",
    "batch_size = 64\n",
    "model.fit_generator(datagen.flow(X_train,Y_train, batch_size=batch_size),\n",
    "                              epochs = epochs, validation_data = (X_val,Y_val),\n",
    "                              verbose = 2, steps_per_epoch=steps_per_epoch,\n",
    "                              callbacks=[best_model])\n",
    "model = load_model(best_model_path)"
   ]
  },
  {
   "cell_type": "code",
   "execution_count": 13,
   "metadata": {
    "collapsed": true
   },
   "outputs": [],
   "source": [
    "# predict results\n",
    "results = model.predict(test)\n",
    "\n",
    "# select the indix with the maximum probability\n",
    "results = np.argmax(results,axis = 1)\n",
    "\n",
    "results = pd.Series(results,name=\"Label\")"
   ]
  },
  {
   "cell_type": "code",
   "execution_count": 14,
   "metadata": {
    "collapsed": false
   },
   "outputs": [
    {
     "name": "stdout",
     "output_type": "stream",
     "text": [
      "save done\n"
     ]
    }
   ],
   "source": [
    "import arrow\n",
    "ts = str(arrow.now())[:-10].replace(':','_').replace('.',\"_\")\n",
    "\n",
    "submission = pd.concat([pd.Series(range(1,28001),name = \"ImageId\"),results],axis = 1)\n",
    "\n",
    "submission.to_csv(\"cnn_mnist_datagen_{}.csv\".format(ts),index=False)\n",
    "\n",
    "print('save done')"
   ]
  }
 ],
 "metadata": {
  "kernelspec": {
   "display_name": "Python 3",
   "language": "python",
   "name": "python3"
  },
  "language_info": {
   "codemirror_mode": {
    "name": "ipython",
    "version": 3
   },
   "file_extension": ".py",
   "mimetype": "text/x-python",
   "name": "python",
   "nbconvert_exporter": "python",
   "pygments_lexer": "ipython3",
   "version": "3.5.2"
  }
 },
 "nbformat": 4,
 "nbformat_minor": 0
}
