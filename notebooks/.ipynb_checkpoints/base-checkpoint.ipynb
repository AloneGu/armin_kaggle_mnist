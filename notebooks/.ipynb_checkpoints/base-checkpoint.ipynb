{
 "cells": [
  {
   "cell_type": "code",
   "execution_count": 1,
   "metadata": {
    "collapsed": false
   },
   "outputs": [
    {
     "name": "stderr",
     "output_type": "stream",
     "text": [
      "Using Theano backend.\n"
     ]
    }
   ],
   "source": [
    "import pandas as pd\n",
    "import numpy as np\n",
    "import matplotlib.pyplot as plt\n",
    "import matplotlib.image as mpimg\n",
    "\n",
    "\n",
    "from sklearn.model_selection import train_test_split\n",
    "from sklearn.metrics import confusion_matrix\n",
    "import itertools\n",
    "\n",
    "from keras.utils.np_utils import to_categorical # convert to one-hot-encoding\n",
    "from keras.models import Sequential\n",
    "from keras.layers import Dense, Dropout, Flatten, Conv2D, MaxPool2D\n",
    "from keras.optimizers import RMSprop, Adam\n",
    "from keras.preprocessing.image import ImageDataGenerator\n",
    "from keras.callbacks import ReduceLROnPlateau"
   ]
  },
  {
   "cell_type": "code",
   "execution_count": 2,
   "metadata": {
    "collapsed": true
   },
   "outputs": [],
   "source": [
    "train = pd.read_csv(\"../input/train.csv\")\n",
    "test = pd.read_csv(\"../input/test.csv\")"
   ]
  },
  {
   "cell_type": "code",
   "execution_count": 3,
   "metadata": {
    "collapsed": true
   },
   "outputs": [],
   "source": [
    "Y_train = train[\"label\"]\n",
    "\n",
    "# Drop 'label' column\n",
    "X_train = train.drop(labels = [\"label\"],axis = 1) \n",
    "\n",
    "# free some space\n",
    "del train "
   ]
  },
  {
   "cell_type": "code",
   "execution_count": 4,
   "metadata": {
    "collapsed": false
   },
   "outputs": [],
   "source": [
    "# Normalize the data\n",
    "X_train = X_train / 255.0\n",
    "test = test / 255.0\n",
    "# Reshape image in 3 dimensions (height = 28px, width = 28px , canal = 1)\n",
    "X_train = X_train.values.reshape(-1,1,28,28)\n",
    "test = test.values.reshape(-1,1,28,28)"
   ]
  },
  {
   "cell_type": "code",
   "execution_count": 5,
   "metadata": {
    "collapsed": false
   },
   "outputs": [
    {
     "name": "stdout",
     "output_type": "stream",
     "text": [
      "(35700, 1, 28, 28) (35700, 10)\n"
     ]
    }
   ],
   "source": [
    "Y_train = to_categorical(Y_train, num_classes = 10)\n",
    "\n",
    "# Split the train and the validation set for the fitting\n",
    "X_train, X_val, Y_train, Y_val = train_test_split(X_train, Y_train, test_size = 0.05, random_state=2333)\n",
    "print(X_train.shape, Y_train.shape)"
   ]
  },
  {
   "cell_type": "code",
   "execution_count": 14,
   "metadata": {
    "collapsed": false
   },
   "outputs": [
    {
     "name": "stdout",
     "output_type": "stream",
     "text": [
      "compile done\n"
     ]
    }
   ],
   "source": [
    "model = Sequential()\n",
    "\n",
    "model.add(Conv2D(filters = 16, kernel_size = (3,3),padding = 'Same', \n",
    "                 activation ='relu', input_shape = (1,28,28)))\n",
    "model.add(Conv2D(filters = 16, kernel_size = (3,3),padding = 'Same', \n",
    "                 activation ='relu'))\n",
    "model.add(MaxPool2D(pool_size=(2,2)))\n",
    "model.add(Dropout(0.5))\n",
    "\n",
    "\n",
    "model.add(Conv2D(filters = 32, kernel_size = (3,3),padding = 'Same', \n",
    "                 activation ='relu'))\n",
    "model.add(Conv2D(filters = 32, kernel_size = (3,3),padding = 'Same', \n",
    "                 activation ='relu'))\n",
    "model.add(MaxPool2D(pool_size=(2,2), strides=(2,2)))\n",
    "model.add(Dropout(0.55))\n",
    "\n",
    "\n",
    "model.add(Flatten())\n",
    "model.add(Dense(256, activation = \"relu\"))\n",
    "model.add(Dropout(0.5))\n",
    "model.add(Dense(10, activation = \"softmax\"))\n",
    "# Compile the model\n",
    "\n",
    "opt = Adam(lr=0.001)\n",
    "model.compile(optimizer = opt , loss = \"categorical_crossentropy\", metrics=[\"accuracy\"])\n",
    "print(\"compile done\")"
   ]
  },
  {
   "cell_type": "code",
   "execution_count": 15,
   "metadata": {
    "collapsed": false
   },
   "outputs": [
    {
     "name": "stderr",
     "output_type": "stream",
     "text": [
      "/home/jac/.local/lib/python3.5/site-packages/keras/preprocessing/image.py:653: UserWarning: Expected input to be images (as Numpy array) following the data format convention \"channels_first\" (channels on axis 1), i.e. expected either 1, 3 or 4 channels on axis 1. However, it was passed an array with shape (35700, 1, 28, 28) (1 channels).\n",
      "  ' (' + str(x.shape[self.channel_axis]) + ' channels).')\n"
     ]
    }
   ],
   "source": [
    "# With data augmentation to prevent overfitting (accuracy 0.99286)\n",
    "\n",
    "datagen = ImageDataGenerator(\n",
    "        featurewise_center=False,  # set input mean to 0 over the dataset\n",
    "        samplewise_center=False,  # set each sample mean to 0\n",
    "        featurewise_std_normalization=False,  # divide inputs by std of the dataset\n",
    "        samplewise_std_normalization=False,  # divide each input by its std\n",
    "        zca_whitening=False,  # apply ZCA whitening\n",
    "        rotation_range=15,  # randomly rotate images in the range (degrees, 0 to 180)\n",
    "        zoom_range = 0.05, # Randomly zoom image \n",
    "        width_shift_range=0.05,  # randomly shift images horizontally (fraction of total width)\n",
    "        height_shift_range=0.05,  # randomly shift images vertically (fraction of total height)\n",
    "        horizontal_flip=False,  # randomly flip images\n",
    "        vertical_flip=False)  # randomly flip images\n",
    "\n",
    "\n",
    "datagen.fit(X_train)"
   ]
  },
  {
   "cell_type": "code",
   "execution_count": 19,
   "metadata": {
    "collapsed": false
   },
   "outputs": [
    {
     "name": "stdout",
     "output_type": "stream",
     "text": [
      "Epoch 1/20\n",
      "20s - loss: 0.2370 - acc: 0.9244 - val_loss: 0.0645 - val_acc: 0.9789\n",
      "Epoch 2/20\n",
      "20s - loss: 0.2263 - acc: 0.9325 - val_loss: 0.0678 - val_acc: 0.9795\n",
      "Epoch 3/20\n",
      "21s - loss: 0.1922 - acc: 0.9428 - val_loss: 0.0640 - val_acc: 0.9792\n",
      "Epoch 4/20\n",
      "20s - loss: 0.2058 - acc: 0.9294 - val_loss: 0.0595 - val_acc: 0.9811\n",
      "Epoch 5/20\n",
      "20s - loss: 0.1983 - acc: 0.9381 - val_loss: 0.0583 - val_acc: 0.9810\n",
      "Epoch 6/20\n",
      "20s - loss: 0.1927 - acc: 0.9412 - val_loss: 0.0569 - val_acc: 0.9810\n",
      "Epoch 7/20\n",
      "19s - loss: 0.1999 - acc: 0.9378 - val_loss: 0.0596 - val_acc: 0.9787\n",
      "Epoch 8/20\n",
      "19s - loss: 0.2093 - acc: 0.9375 - val_loss: 0.0536 - val_acc: 0.9830\n",
      "Epoch 9/20\n",
      "19s - loss: 0.1919 - acc: 0.9444 - val_loss: 0.0491 - val_acc: 0.9841\n",
      "Epoch 10/20\n",
      "19s - loss: 0.1827 - acc: 0.9400 - val_loss: 0.0560 - val_acc: 0.9816\n",
      "Epoch 11/20\n",
      "19s - loss: 0.2072 - acc: 0.9375 - val_loss: 0.0570 - val_acc: 0.9810\n",
      "Epoch 12/20\n",
      "19s - loss: 0.1677 - acc: 0.9519 - val_loss: 0.0492 - val_acc: 0.9825\n",
      "Epoch 13/20\n",
      "19s - loss: 0.1834 - acc: 0.9441 - val_loss: 0.0478 - val_acc: 0.9852\n",
      "Epoch 14/20\n",
      "19s - loss: 0.1622 - acc: 0.9522 - val_loss: 0.0515 - val_acc: 0.9843\n",
      "Epoch 15/20\n",
      "19s - loss: 0.1915 - acc: 0.9428 - val_loss: 0.0502 - val_acc: 0.9835\n",
      "Epoch 16/20\n",
      "20s - loss: 0.1581 - acc: 0.9469 - val_loss: 0.0500 - val_acc: 0.9822\n",
      "Epoch 17/20\n",
      "20s - loss: 0.1672 - acc: 0.9494 - val_loss: 0.0506 - val_acc: 0.9829\n",
      "Epoch 18/20\n",
      "19s - loss: 0.1827 - acc: 0.9494 - val_loss: 0.0603 - val_acc: 0.9789\n",
      "Epoch 19/20\n",
      "19s - loss: 0.1496 - acc: 0.9500 - val_loss: 0.0518 - val_acc: 0.9832\n",
      "Epoch 20/20\n",
      "19s - loss: 0.1643 - acc: 0.9478 - val_loss: 0.0540 - val_acc: 0.9833\n"
     ]
    }
   ],
   "source": [
    "from keras.callbacks import CSVLogger, ModelCheckpoint\n",
    "from keras.models import load_model\n",
    "best_model_path = 'best_m.h5'\n",
    "best_model = ModelCheckpoint(filepath=best_model_path, monitor='val_loss', save_best_only=True)\n",
    "epochs = 100\n",
    "steps_per_epoch = 50\n",
    "batch_size = 64\n",
    "model.fit_generator(datagen.flow(X_train,Y_train, batch_size=batch_size),\n",
    "                              epochs = epochs, validation_data = (X_val,Y_val),\n",
    "                              verbose = 2, steps_per_epoch=steps_per_epoch,\n",
    "                              callbacks=[best_model])\n",
    "model = load_model(best_model_path)"
   ]
  },
  {
   "cell_type": "code",
   "execution_count": 17,
   "metadata": {
    "collapsed": true
   },
   "outputs": [],
   "source": [
    "# predict results\n",
    "results = model.predict(test)\n",
    "\n",
    "# select the indix with the maximum probability\n",
    "results = np.argmax(results,axis = 1)\n",
    "\n",
    "results = pd.Series(results,name=\"Label\")"
   ]
  },
  {
   "cell_type": "code",
   "execution_count": 18,
   "metadata": {
    "collapsed": false
   },
   "outputs": [
    {
     "name": "stdout",
     "output_type": "stream",
     "text": [
      "save done\n"
     ]
    }
   ],
   "source": [
    "import arrow\n",
    "ts = str(arrow.now())[:-10].replace(':','_').replace('.',\"_\")\n",
    "\n",
    "submission = pd.concat([pd.Series(range(1,28001),name = \"ImageId\"),results],axis = 1)\n",
    "\n",
    "submission.to_csv(\"cnn_mnist_datagen_{}.csv\".format(ts),index=False)\n",
    "\n",
    "print('save done')"
   ]
  }
 ],
 "metadata": {
  "kernelspec": {
   "display_name": "Python 3",
   "language": "python",
   "name": "python3"
  },
  "language_info": {
   "codemirror_mode": {
    "name": "ipython",
    "version": 3
   },
   "file_extension": ".py",
   "mimetype": "text/x-python",
   "name": "python",
   "nbconvert_exporter": "python",
   "pygments_lexer": "ipython3",
   "version": "3.5.2"
  }
 },
 "nbformat": 4,
 "nbformat_minor": 0
}
